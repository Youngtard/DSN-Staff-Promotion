{
 "cells": [
  {
   "cell_type": "raw",
   "metadata": {},
   "source": [
    "# Have Table of Content and a numeric order - 1, 1.1, 2, 2.1, 2.2 etc"
   ]
  },
  {
   "cell_type": "code",
   "execution_count": 674,
   "metadata": {
    "_cell_guid": "b1076dfc-b9ad-4769-8c92-a6c4dae69d19",
    "_uuid": "8f2839f25d086af736a60e9eeb907d3b93b6e0e5"
   },
   "outputs": [
    {
     "name": "stdout",
     "output_type": "stream",
     "text": [
      "/kaggle/input/intercampusai2019/test.csv\n",
      "/kaggle/input/intercampusai2019/sample_submission2.csv\n",
      "/kaggle/input/intercampusai2019/train.csv\n"
     ]
    }
   ],
   "source": [
    "# This Python 3 environment comes with many helpful analytics libraries installed\n",
    "# It is defined by the kaggle/python docker image: https://github.com/kaggle/docker-python\n",
    "# For example, here's several helpful packages to load in \n",
    "\n",
    "import numpy as np # linear algebra\n",
    "import pandas as pd # data processing, CSV file I/O (e.g. pd.read_csv)\n",
    "\n",
    "import seaborn as sns\n",
    "import matplotlib.pyplot as plt\n",
    "# import pprint\n",
    "from operator import itemgetter\n",
    "# from bisect import insort\n",
    "\n",
    "from scipy.stats.stats import pearsonr\n",
    "import scipy\n",
    "from scipy.cluster import hierarchy as hc\n",
    "\n",
    "\n",
    "from sklearn.preprocessing import MinMaxScaler\n",
    "from sklearn.preprocessing import StandardScaler\n",
    "\n",
    "from sklearn.model_selection import train_test_split\n",
    "from sklearn.ensemble import RandomForestClassifier\n",
    "from sklearn.linear_model import LogisticRegression\n",
    "from sklearn.svm import SVC\n",
    "from sklearn.linear_model import SGDClassifier\n",
    "from sklearn.ensemble import BaggingClassifier \n",
    "from sklearn.tree import DecisionTreeClassifier\n",
    "\n",
    "from sklearn.model_selection import cross_val_score\n",
    "from sklearn.model_selection import cross_val_predict\n",
    "from sklearn.model_selection import StratifiedKFold\n",
    "from sklearn.model_selection import RandomizedSearchCV\n",
    "from imblearn.over_sampling import SMOTE\n",
    "\n",
    "from sklearn.base import clone\n",
    "from sklearn.metrics import f1_score\n",
    "from sklearn.metrics import precision_score\n",
    "from sklearn.metrics import recall_score\n",
    "from sklearn.metrics import confusion_matrix\n",
    "from sklearn.metrics import precision_recall_curve\n",
    "\n",
    "\n",
    "\n",
    "\n",
    "\n",
    "import category_encoders as ce\n",
    "\n",
    "# Input data files are available in the \"../input/\" directory.\n",
    "# For example, running this (by clicking run or pressing Shift+Enter) will list all files under the input directory\n",
    "\n",
    "import os\n",
    "for dirname, _, filenames in os.walk('/kaggle/input'):\n",
    "    for filename in filenames:\n",
    "        print(os.path.join(dirname, filename))\n",
    "\n",
    "# Any results you write to the current directory are saved as output."
   ]
  },
  {
   "cell_type": "code",
   "execution_count": 675,
   "metadata": {
    "_cell_guid": "79c7e3d0-c299-4dcb-8224-4455121ee9b0",
    "_uuid": "d629ff2d2480ee46fbb7e2d37f6b5fab8052498a"
   },
   "outputs": [],
   "source": [
    "train = pd.read_csv(\"../input/intercampusai2019/train.csv\")\n",
    "dataset = pd.read_csv(\"../input/intercampusai2019/train.csv\")"
   ]
  },
  {
   "cell_type": "code",
   "execution_count": 676,
   "metadata": {},
   "outputs": [],
   "source": [
    "test = pd.read_csv(\"../input/intercampusai2019/test.csv\")"
   ]
  },
  {
   "cell_type": "code",
   "execution_count": 677,
   "metadata": {},
   "outputs": [],
   "source": [
    "TEST = pd.read_csv(\"../input/intercampusai2019/test.csv\")"
   ]
  },
  {
   "cell_type": "code",
   "execution_count": 678,
   "metadata": {},
   "outputs": [],
   "source": [
    "PROMOTED = train[train.Promoted_or_Not == 1]"
   ]
  },
  {
   "cell_type": "code",
   "execution_count": 679,
   "metadata": {},
   "outputs": [],
   "source": [
    "# Get promotion rate per unique observations of a feature\n",
    "def get_promotion_rate(x, train = train, promoted = PROMOTED, sort = \"value\"):\n",
    "    x_values = promoted[x].value_counts().keys()\n",
    "    \n",
    "    rates = []\n",
    "    for i in x_values:\n",
    "        i_promoted = promoted[x].value_counts()[i]\n",
    "        total_i = train[x].value_counts()[i]\n",
    "        \n",
    "        rate = (i_promoted/total_i) * 100\n",
    "        \n",
    "        rates.append((i, rate))\n",
    "    \n",
    "#     Useful for when key is an object (like string) type, and sort order of the rate values is better for visualization\n",
    "    if sort == \"value\":\n",
    "        rates.sort(key = itemgetter(1), reverse = True)\n",
    "        for i in rates:\n",
    "            print(str(i[0]) + \" = \" + str(i[1]))\n",
    "#     Useful for when key is a numeric type, and numeric sort order of the keys is better for visual analysis\n",
    "    elif sort == \"key\":\n",
    "        rates.sort(key = itemgetter(0), reverse = True)\n",
    "        for i in rates:\n",
    "            print(str(i[0]) + \" = \" + str(i[1]))\n",
    "    else:\n",
    "        raise ValueError(\"No such value for the \\\"sort\\\" parameter\")\n",
    "        "
   ]
  },
  {
   "cell_type": "code",
   "execution_count": 680,
   "metadata": {},
   "outputs": [],
   "source": [
    "# Plot population distribution of employees by feature\n",
    "def plt_employees(kind, x, data = train):\n",
    "    if kind == \"pie\":\n",
    "        sizes = data[x].value_counts().tolist()\n",
    "        labels = data[x].value_counts().keys()\n",
    "        plt.pie(sizes, labels = labels, autopct=\"%1.1f%%\")\n",
    "        plt.show()\n",
    "    elif kind == \"count\":\n",
    "        sns.countplot(x = x, data = data)\n",
    "    else:\n",
    "        raise ValueError(\"No such value for the \\\"kind\\\" parameter\")"
   ]
  },
  {
   "cell_type": "code",
   "execution_count": 681,
   "metadata": {},
   "outputs": [],
   "source": [
    "# Plot employees promoted per feature\n",
    "def plt_employees_promoted(x, data = PROMOTED):\n",
    "    sns.countplot(x = x, data = data)\n",
    "    plt.show()"
   ]
  },
  {
   "cell_type": "code",
   "execution_count": 682,
   "metadata": {},
   "outputs": [],
   "source": [
    "def get_zone(state):\n",
    "    north_central = [\"BENUE\", \"KOGI\", \"KWARA\", \"NASSARAWA\", \"NIGER\", \"PLATEAU\", \"FCT\"]\n",
    "    north_east = [\"ADAMAWA\", \"BAUCHI\", \"BORNO\", \"GOMBE\", \"TARABA\", \"YOBE\"]\n",
    "    north_west = [\"JIGAWA\", \"KADUNA\", \"KANO\", \"KATSINA\", \"KEBBI\", \"SOKOTO\", \"ZAMFARA\"]\n",
    "    south_east = [\"ABIA\", \"ANAMBRA\", \"EBONYI\", \"ENUGU\", \"IMO\"]\n",
    "    south_south = [\"AKWA IBOM\", \"BAYELSA\", \"CROSS RIVER\", \"RIVERS\", \"DELTA\", \"EDO\"]\n",
    "    south_west = [\"EKITI\", \"LAGOS\", \"OGUN\", \"ONDO\", \"OSUN\", \"OYO\"]\n",
    "    \n",
    "    if state in south_west:\n",
    "        return \"SW\"\n",
    "    elif state in south_south:\n",
    "        return \"SS\"\n",
    "    elif state in north_central:\n",
    "        return \"NC\"\n",
    "    elif state in south_east:\n",
    "        return \"SE\"\n",
    "    elif state in north_west:\n",
    "        return \"NW\"\n",
    "    elif state in north_east:\n",
    "        return \"NE\"\n",
    "    else:\n",
    "        raise ValueError(\"State not found in any zone\")"
   ]
  },
  {
   "cell_type": "code",
   "execution_count": 683,
   "metadata": {},
   "outputs": [],
   "source": [
    "def strat_cv(train_X, train_y, clf):\n",
    "    skfolds = StratifiedKFold(n_splits = 4, random_state = 42)\n",
    "\n",
    "    for train_index, test_index in skfolds.split(train_X, train_y):\n",
    "        clone_clf = clone(clf)\n",
    "        \n",
    "#         if type(train_X) == np.ndarray:\n",
    "#             train_X_folds = train_X[train_index]\n",
    "#             train_y_folds = train_y[train_index]\n",
    "#             test_X_folds = train_X[test_index]\n",
    "#             test_y_folds = train_y[test_index]\n",
    "#         else:\n",
    "        train_X_folds = train_X.iloc[train_index]\n",
    "        train_y_folds = train_y.iloc[train_index]\n",
    "        test_X_folds = train_X.iloc[test_index]\n",
    "        test_y_folds = train_y.iloc[test_index]\n",
    "        \n",
    "        clone_clf.fit(train_X_folds, train_y_folds)\n",
    "        valid_pred = clone_clf.predict(test_X_folds)\n",
    "        f1_s = f1_score(test_y_folds, valid_pred)\n",
    "        print(f1_s)"
   ]
  },
  {
   "cell_type": "markdown",
   "metadata": {},
   "source": [
    "1. # Overview of Dataset"
   ]
  },
  {
   "cell_type": "code",
   "execution_count": 684,
   "metadata": {},
   "outputs": [
    {
     "data": {
      "text/plain": [
       "(38312, 19)"
      ]
     },
     "execution_count": 684,
     "metadata": {},
     "output_type": "execute_result"
    }
   ],
   "source": [
    "train.shape"
   ]
  },
  {
   "cell_type": "code",
   "execution_count": 685,
   "metadata": {},
   "outputs": [
    {
     "data": {
      "text/plain": [
       "(3241, 19)"
      ]
     },
     "execution_count": 685,
     "metadata": {},
     "output_type": "execute_result"
    }
   ],
   "source": [
    "PROMOTED.shape"
   ]
  },
  {
   "cell_type": "code",
   "execution_count": 686,
   "metadata": {},
   "outputs": [
    {
     "data": {
      "text/plain": [
       "EmployeeNo                              object\n",
       "Division                                object\n",
       "Qualification                           object\n",
       "Gender                                  object\n",
       "Channel_of_Recruitment                  object\n",
       "Trainings_Attended                       int64\n",
       "Year_of_birth                            int64\n",
       "Last_performance_score                 float64\n",
       "Year_of_recruitment                      int64\n",
       "Targets_met                              int64\n",
       "Previous_Award                           int64\n",
       "Training_score_average                   int64\n",
       "State_Of_Origin                         object\n",
       "Foreign_schooled                        object\n",
       "Marital_Status                          object\n",
       "Past_Disciplinary_Action                object\n",
       "Previous_IntraDepartmental_Movement     object\n",
       "No_of_previous_employers                object\n",
       "Promoted_or_Not                          int64\n",
       "dtype: object"
      ]
     },
     "execution_count": 686,
     "metadata": {},
     "output_type": "execute_result"
    }
   ],
   "source": [
    "train.dtypes"
   ]
  },
  {
   "cell_type": "markdown",
   "metadata": {},
   "source": [
    "NO NEED TO ENCODE FOR TREE MODELS AND OTHERS (LAST MODELS TO PLAY WITH)\n",
    "as_ordered() \n",
    "no - drop, all values are unique\n",
    "division - onehotencode\n",
    "qualification - ohe\n",
    "gender - categorize - no order, ohe\n",
    "channel recruit - ohe\n",
    "yob - age\n",
    "yor\n",
    "targets met - categorize, no order - An order can be inherently assumbed i.e. Positve 1 is greater/better than 0???\n",
    "previous award - categorize, no order - An order can be inherently assumbed i.e. Positve 1 is greater/better than 0???\n",
    "state of origin MANY VALUES - ohe, categorize because many values so as to save memory? compare memory usage of column\n",
    "foreign schooled - ohe\n",
    "marital status - ohe\n",
    "past disp - ohe\n",
    "previous intradepart - ohe\n",
    "no of previous employees - int, morethan 5, - categorize - order, ohe"
   ]
  },
  {
   "cell_type": "markdown",
   "metadata": {},
   "source": [
    "> We're dealing majorly with categorical data types"
   ]
  },
  {
   "cell_type": "markdown",
   "metadata": {},
   "source": [
    "> There are some many features to one hot encode, one has to be careful of the effect individually (e.g. features with high cardinality) and in group/aggregate (ohe so many features)"
   ]
  },
  {
   "cell_type": "code",
   "execution_count": 687,
   "metadata": {},
   "outputs": [
    {
     "data": {
      "text/plain": [
       "EmployeeNo                                0\n",
       "Division                                  0\n",
       "Qualification                          1679\n",
       "Gender                                    0\n",
       "Channel_of_Recruitment                    0\n",
       "Trainings_Attended                        0\n",
       "Year_of_birth                             0\n",
       "Last_performance_score                    0\n",
       "Year_of_recruitment                       0\n",
       "Targets_met                               0\n",
       "Previous_Award                            0\n",
       "Training_score_average                    0\n",
       "State_Of_Origin                           0\n",
       "Foreign_schooled                          0\n",
       "Marital_Status                            0\n",
       "Past_Disciplinary_Action                  0\n",
       "Previous_IntraDepartmental_Movement       0\n",
       "No_of_previous_employers                  0\n",
       "Promoted_or_Not                           0\n",
       "dtype: int64"
      ]
     },
     "execution_count": 687,
     "metadata": {},
     "output_type": "execute_result"
    }
   ],
   "source": [
    "train.isnull().sum()"
   ]
  },
  {
   "cell_type": "code",
   "execution_count": 688,
   "metadata": {},
   "outputs": [
    {
     "data": {
      "text/plain": [
       "EmployeeNo                               0\n",
       "Division                                 0\n",
       "Qualification                          730\n",
       "Gender                                   0\n",
       "Channel_of_Recruitment                   0\n",
       "Trainings_Attended                       0\n",
       "Year_of_birth                            0\n",
       "Last_performance_score                   0\n",
       "Year_of_recruitment                      0\n",
       "Targets_met                              0\n",
       "Previous_Award                           0\n",
       "Training_score_average                   0\n",
       "State_Of_Origin                          0\n",
       "Foreign_schooled                         0\n",
       "Marital_Status                           0\n",
       "Past_Disciplinary_Action                 0\n",
       "Previous_IntraDepartmental_Movement      0\n",
       "No_of_previous_employers                 0\n",
       "dtype: int64"
      ]
     },
     "execution_count": 688,
     "metadata": {},
     "output_type": "execute_result"
    }
   ],
   "source": [
    "test.isnull().sum()"
   ]
  },
  {
   "cell_type": "markdown",
   "metadata": {},
   "source": [
    "> Only Qualification feature has missing data in both training and test dataset"
   ]
  },
  {
   "cell_type": "code",
   "execution_count": 689,
   "metadata": {},
   "outputs": [
    {
     "data": {
      "text/html": [
       "<div>\n",
       "<style scoped>\n",
       "    .dataframe tbody tr th:only-of-type {\n",
       "        vertical-align: middle;\n",
       "    }\n",
       "\n",
       "    .dataframe tbody tr th {\n",
       "        vertical-align: top;\n",
       "    }\n",
       "\n",
       "    .dataframe thead th {\n",
       "        text-align: right;\n",
       "    }\n",
       "</style>\n",
       "<table border=\"1\" class=\"dataframe\">\n",
       "  <thead>\n",
       "    <tr style=\"text-align: right;\">\n",
       "      <th></th>\n",
       "      <th>Trainings_Attended</th>\n",
       "      <th>Year_of_birth</th>\n",
       "      <th>Last_performance_score</th>\n",
       "      <th>Year_of_recruitment</th>\n",
       "      <th>Targets_met</th>\n",
       "      <th>Previous_Award</th>\n",
       "      <th>Training_score_average</th>\n",
       "      <th>Promoted_or_Not</th>\n",
       "    </tr>\n",
       "  </thead>\n",
       "  <tbody>\n",
       "    <tr>\n",
       "      <td>count</td>\n",
       "      <td>38312.000000</td>\n",
       "      <td>38312.000000</td>\n",
       "      <td>38312.000000</td>\n",
       "      <td>38312.000000</td>\n",
       "      <td>38312.000000</td>\n",
       "      <td>38312.000000</td>\n",
       "      <td>38312.000000</td>\n",
       "      <td>38312.000000</td>\n",
       "    </tr>\n",
       "    <tr>\n",
       "      <td>mean</td>\n",
       "      <td>2.253680</td>\n",
       "      <td>1986.209334</td>\n",
       "      <td>7.698959</td>\n",
       "      <td>2013.139695</td>\n",
       "      <td>0.352996</td>\n",
       "      <td>0.023152</td>\n",
       "      <td>55.366465</td>\n",
       "      <td>0.084595</td>\n",
       "    </tr>\n",
       "    <tr>\n",
       "      <td>std</td>\n",
       "      <td>0.609443</td>\n",
       "      <td>7.646047</td>\n",
       "      <td>3.744135</td>\n",
       "      <td>4.261451</td>\n",
       "      <td>0.477908</td>\n",
       "      <td>0.150388</td>\n",
       "      <td>13.362741</td>\n",
       "      <td>0.278282</td>\n",
       "    </tr>\n",
       "    <tr>\n",
       "      <td>min</td>\n",
       "      <td>2.000000</td>\n",
       "      <td>1950.000000</td>\n",
       "      <td>0.000000</td>\n",
       "      <td>1982.000000</td>\n",
       "      <td>0.000000</td>\n",
       "      <td>0.000000</td>\n",
       "      <td>31.000000</td>\n",
       "      <td>0.000000</td>\n",
       "    </tr>\n",
       "    <tr>\n",
       "      <td>25%</td>\n",
       "      <td>2.000000</td>\n",
       "      <td>1982.000000</td>\n",
       "      <td>5.000000</td>\n",
       "      <td>2012.000000</td>\n",
       "      <td>0.000000</td>\n",
       "      <td>0.000000</td>\n",
       "      <td>43.000000</td>\n",
       "      <td>0.000000</td>\n",
       "    </tr>\n",
       "    <tr>\n",
       "      <td>50%</td>\n",
       "      <td>2.000000</td>\n",
       "      <td>1988.000000</td>\n",
       "      <td>7.500000</td>\n",
       "      <td>2014.000000</td>\n",
       "      <td>0.000000</td>\n",
       "      <td>0.000000</td>\n",
       "      <td>52.000000</td>\n",
       "      <td>0.000000</td>\n",
       "    </tr>\n",
       "    <tr>\n",
       "      <td>75%</td>\n",
       "      <td>2.000000</td>\n",
       "      <td>1992.000000</td>\n",
       "      <td>10.000000</td>\n",
       "      <td>2016.000000</td>\n",
       "      <td>1.000000</td>\n",
       "      <td>0.000000</td>\n",
       "      <td>68.000000</td>\n",
       "      <td>0.000000</td>\n",
       "    </tr>\n",
       "    <tr>\n",
       "      <td>max</td>\n",
       "      <td>11.000000</td>\n",
       "      <td>2001.000000</td>\n",
       "      <td>12.500000</td>\n",
       "      <td>2018.000000</td>\n",
       "      <td>1.000000</td>\n",
       "      <td>1.000000</td>\n",
       "      <td>91.000000</td>\n",
       "      <td>1.000000</td>\n",
       "    </tr>\n",
       "  </tbody>\n",
       "</table>\n",
       "</div>"
      ],
      "text/plain": [
       "       Trainings_Attended  Year_of_birth  Last_performance_score  \\\n",
       "count        38312.000000   38312.000000            38312.000000   \n",
       "mean             2.253680    1986.209334                7.698959   \n",
       "std              0.609443       7.646047                3.744135   \n",
       "min              2.000000    1950.000000                0.000000   \n",
       "25%              2.000000    1982.000000                5.000000   \n",
       "50%              2.000000    1988.000000                7.500000   \n",
       "75%              2.000000    1992.000000               10.000000   \n",
       "max             11.000000    2001.000000               12.500000   \n",
       "\n",
       "       Year_of_recruitment   Targets_met  Previous_Award  \\\n",
       "count         38312.000000  38312.000000    38312.000000   \n",
       "mean           2013.139695      0.352996        0.023152   \n",
       "std               4.261451      0.477908        0.150388   \n",
       "min            1982.000000      0.000000        0.000000   \n",
       "25%            2012.000000      0.000000        0.000000   \n",
       "50%            2014.000000      0.000000        0.000000   \n",
       "75%            2016.000000      1.000000        0.000000   \n",
       "max            2018.000000      1.000000        1.000000   \n",
       "\n",
       "       Training_score_average  Promoted_or_Not  \n",
       "count            38312.000000     38312.000000  \n",
       "mean                55.366465         0.084595  \n",
       "std                 13.362741         0.278282  \n",
       "min                 31.000000         0.000000  \n",
       "25%                 43.000000         0.000000  \n",
       "50%                 52.000000         0.000000  \n",
       "75%                 68.000000         0.000000  \n",
       "max                 91.000000         1.000000  "
      ]
     },
     "execution_count": 689,
     "metadata": {},
     "output_type": "execute_result"
    }
   ],
   "source": [
    "train.describe()"
   ]
  },
  {
   "cell_type": "code",
   "execution_count": 690,
   "metadata": {},
   "outputs": [
    {
     "data": {
      "image/png": "[encoded data removed]",
      "text/plain": [
       "<Figure size 1080x576 with 1 Axes>"
      ]
     },
     "metadata": {
      "needs_background": "light"
     },
     "output_type": "display_data"
    }
   ],
   "source": [
    "fig, ax = plt.subplots(figsize = (15, 8))\n",
    "sns.kdeplot(train.Trainings_Attended, shade = True)\n",
    "sns.kdeplot(train.Last_performance_score, shade = True)\n",
    "plt.show()"
   ]
  },
  {
   "cell_type": "markdown",
   "metadata": {},
   "source": [
    "> Seaborn's Kde normalizes the densities on the y-axis. Since I care only about the shape of the curve, I don't mind the normalization. If I care about the density values, I can use an histogram"
   ]
  },
  {
   "cell_type": "code",
   "execution_count": 691,
   "metadata": {},
   "outputs": [
    {
     "data": {
      "image/png": "[encoded data removed]",
      "text/plain": [
       "<Figure size 1080x576 with 1 Axes>"
      ]
     },
     "metadata": {
      "needs_background": "light"
     },
     "output_type": "display_data"
    }
   ],
   "source": [
    "fig, ax = plt.subplots(figsize = (15, 8))\n",
    "sns.kdeplot(train.Year_of_birth, shade = True)\n",
    "sns.kdeplot(train.Year_of_recruitment, shade = True)\n",
    "plt.show()"
   ]
  },
  {
   "cell_type": "code",
   "execution_count": 692,
   "metadata": {},
   "outputs": [
    {
     "data": {
      "image/png": "[encoded data removed]",
      "text/plain": [
       "<Figure size 1080x576 with 1 Axes>"
      ]
     },
     "metadata": {
      "needs_background": "light"
     },
     "output_type": "display_data"
    }
   ],
   "source": [
    "fig, ax = plt.subplots(figsize = (15, 8))\n",
    "sns.kdeplot(train.Training_score_average, shade = True)\n",
    "plt.show()"
   ]
  },
  {
   "cell_type": "markdown",
   "metadata": {},
   "source": [
    "> DO YOU PLOT KDE FOR (STRICT?) CATEGORICAL DATA??? (AS DONE BELOW).  \n",
    "> IN THIS CASE, WE CAN ASSUME TO BE WORKING WITH A NUMERICAL CATEGORICAL DATA AND THE SHAPE OF THE DISTRIBUTION INDIVIDUALLY OR IN RELATION TO ANOTHER DISTRIBUTION MAY BE RELEVANT FOR INFORMATION EXTRACTION"
   ]
  },
  {
   "cell_type": "code",
   "execution_count": 693,
   "metadata": {},
   "outputs": [
    {
     "data": {
      "image/png": "[encoded data removed]",
      "text/plain": [
       "<Figure size 1080x576 with 1 Axes>"
      ]
     },
     "metadata": {
      "needs_background": "light"
     },
     "output_type": "display_data"
    }
   ],
   "source": [
    "fig, ax = plt.subplots(figsize = (15, 8))\n",
    "sns.kdeplot(train.Targets_met, shade = True)\n",
    "sns.kdeplot(train.Previous_Award, shade = True)\n",
    "plt.show()"
   ]
  },
  {
   "cell_type": "code",
   "execution_count": 694,
   "metadata": {},
   "outputs": [
    {
     "data": {
      "image/png": "[encoded data removed]",
      "text/plain": [
       "<Figure size 1080x576 with 1 Axes>"
      ]
     },
     "metadata": {
      "needs_background": "light"
     },
     "output_type": "display_data"
    }
   ],
   "source": [
    "fig, ax = plt.subplots(figsize = (15, 8))\n",
    "sns.kdeplot(train.Promoted_or_Not)\n",
    "plt.show()"
   ]
  },
  {
   "cell_type": "markdown",
   "metadata": {},
   "source": [
    "> The distribution of Previous_Award and Promoted_or_Not,(and Targets_met?) is very similar, but Promoted_or_Not has more positive occurences than Previous_Award, as seen below. EXPECTED BECAUSE THEY ONLY HAVE TWO POSSIBLE VALUES?"
   ]
  },
  {
   "cell_type": "code",
   "execution_count": 695,
   "metadata": {},
   "outputs": [
    {
     "data": {
      "image/png": "[encoded data removed]",
      "text/plain": [
       "<Figure size 1080x576 with 1 Axes>"
      ]
     },
     "metadata": {
      "needs_background": "light"
     },
     "output_type": "display_data"
    }
   ],
   "source": [
    "fig, ax = plt.subplots(figsize = (15, 8))\n",
    "sns.kdeplot(train.Promoted_or_Not)\n",
    "sns.kdeplot(train.Previous_Award)\n",
    "plt.show()"
   ]
  },
  {
   "cell_type": "code",
   "execution_count": 696,
   "metadata": {},
   "outputs": [
    {
     "data": {
      "text/html": [
       "<div>\n",
       "<style scoped>\n",
       "    .dataframe tbody tr th:only-of-type {\n",
       "        vertical-align: middle;\n",
       "    }\n",
       "\n",
       "    .dataframe tbody tr th {\n",
       "        vertical-align: top;\n",
       "    }\n",
       "\n",
       "    .dataframe thead th {\n",
       "        text-align: right;\n",
       "    }\n",
       "</style>\n",
       "<table border=\"1\" class=\"dataframe\">\n",
       "  <thead>\n",
       "    <tr style=\"text-align: right;\">\n",
       "      <th></th>\n",
       "      <th>EmployeeNo</th>\n",
       "      <th>Division</th>\n",
       "      <th>Qualification</th>\n",
       "      <th>Gender</th>\n",
       "      <th>Channel_of_Recruitment</th>\n",
       "      <th>Trainings_Attended</th>\n",
       "      <th>Year_of_birth</th>\n",
       "      <th>Last_performance_score</th>\n",
       "      <th>Year_of_recruitment</th>\n",
       "      <th>Targets_met</th>\n",
       "      <th>Previous_Award</th>\n",
       "      <th>Training_score_average</th>\n",
       "      <th>State_Of_Origin</th>\n",
       "      <th>Foreign_schooled</th>\n",
       "      <th>Marital_Status</th>\n",
       "      <th>Past_Disciplinary_Action</th>\n",
       "      <th>Previous_IntraDepartmental_Movement</th>\n",
       "      <th>No_of_previous_employers</th>\n",
       "      <th>Promoted_or_Not</th>\n",
       "    </tr>\n",
       "  </thead>\n",
       "  <tbody>\n",
       "    <tr>\n",
       "      <td>0</td>\n",
       "      <td>YAK/S/00001</td>\n",
       "      <td>Commercial Sales and Marketing</td>\n",
       "      <td>MSc, MBA and PhD</td>\n",
       "      <td>Female</td>\n",
       "      <td>Direct Internal process</td>\n",
       "      <td>2</td>\n",
       "      <td>1986</td>\n",
       "      <td>12.5</td>\n",
       "      <td>2011</td>\n",
       "      <td>1</td>\n",
       "      <td>0</td>\n",
       "      <td>41</td>\n",
       "      <td>ANAMBRA</td>\n",
       "      <td>No</td>\n",
       "      <td>Married</td>\n",
       "      <td>No</td>\n",
       "      <td>No</td>\n",
       "      <td>0</td>\n",
       "      <td>0</td>\n",
       "    </tr>\n",
       "    <tr>\n",
       "      <td>1</td>\n",
       "      <td>YAK/S/00002</td>\n",
       "      <td>Customer Support and Field Operations</td>\n",
       "      <td>First Degree or HND</td>\n",
       "      <td>Male</td>\n",
       "      <td>Agency and others</td>\n",
       "      <td>2</td>\n",
       "      <td>1991</td>\n",
       "      <td>12.5</td>\n",
       "      <td>2015</td>\n",
       "      <td>0</td>\n",
       "      <td>0</td>\n",
       "      <td>52</td>\n",
       "      <td>ANAMBRA</td>\n",
       "      <td>Yes</td>\n",
       "      <td>Married</td>\n",
       "      <td>No</td>\n",
       "      <td>No</td>\n",
       "      <td>0</td>\n",
       "      <td>0</td>\n",
       "    </tr>\n",
       "    <tr>\n",
       "      <td>2</td>\n",
       "      <td>YAK/S/00003</td>\n",
       "      <td>Commercial Sales and Marketing</td>\n",
       "      <td>First Degree or HND</td>\n",
       "      <td>Male</td>\n",
       "      <td>Direct Internal process</td>\n",
       "      <td>2</td>\n",
       "      <td>1987</td>\n",
       "      <td>7.5</td>\n",
       "      <td>2012</td>\n",
       "      <td>0</td>\n",
       "      <td>0</td>\n",
       "      <td>42</td>\n",
       "      <td>KATSINA</td>\n",
       "      <td>Yes</td>\n",
       "      <td>Married</td>\n",
       "      <td>No</td>\n",
       "      <td>No</td>\n",
       "      <td>0</td>\n",
       "      <td>0</td>\n",
       "    </tr>\n",
       "    <tr>\n",
       "      <td>3</td>\n",
       "      <td>YAK/S/00004</td>\n",
       "      <td>Commercial Sales and Marketing</td>\n",
       "      <td>First Degree or HND</td>\n",
       "      <td>Male</td>\n",
       "      <td>Agency and others</td>\n",
       "      <td>3</td>\n",
       "      <td>1982</td>\n",
       "      <td>2.5</td>\n",
       "      <td>2009</td>\n",
       "      <td>0</td>\n",
       "      <td>0</td>\n",
       "      <td>42</td>\n",
       "      <td>NIGER</td>\n",
       "      <td>Yes</td>\n",
       "      <td>Single</td>\n",
       "      <td>No</td>\n",
       "      <td>No</td>\n",
       "      <td>1</td>\n",
       "      <td>0</td>\n",
       "    </tr>\n",
       "    <tr>\n",
       "      <td>4</td>\n",
       "      <td>YAK/S/00006</td>\n",
       "      <td>Information and Strategy</td>\n",
       "      <td>First Degree or HND</td>\n",
       "      <td>Male</td>\n",
       "      <td>Direct Internal process</td>\n",
       "      <td>3</td>\n",
       "      <td>1990</td>\n",
       "      <td>7.5</td>\n",
       "      <td>2012</td>\n",
       "      <td>0</td>\n",
       "      <td>0</td>\n",
       "      <td>77</td>\n",
       "      <td>AKWA IBOM</td>\n",
       "      <td>Yes</td>\n",
       "      <td>Married</td>\n",
       "      <td>No</td>\n",
       "      <td>No</td>\n",
       "      <td>1</td>\n",
       "      <td>0</td>\n",
       "    </tr>\n",
       "  </tbody>\n",
       "</table>\n",
       "</div>"
      ],
      "text/plain": [
       "    EmployeeNo                               Division        Qualification  \\\n",
       "0  YAK/S/00001         Commercial Sales and Marketing     MSc, MBA and PhD   \n",
       "1  YAK/S/00002  Customer Support and Field Operations  First Degree or HND   \n",
       "2  YAK/S/00003         Commercial Sales and Marketing  First Degree or HND   \n",
       "3  YAK/S/00004         Commercial Sales and Marketing  First Degree or HND   \n",
       "4  YAK/S/00006               Information and Strategy  First Degree or HND   \n",
       "\n",
       "   Gender   Channel_of_Recruitment  Trainings_Attended  Year_of_birth  \\\n",
       "0  Female  Direct Internal process                   2           1986   \n",
       "1    Male        Agency and others                   2           1991   \n",
       "2    Male  Direct Internal process                   2           1987   \n",
       "3    Male        Agency and others                   3           1982   \n",
       "4    Male  Direct Internal process                   3           1990   \n",
       "\n",
       "   Last_performance_score  Year_of_recruitment  Targets_met  Previous_Award  \\\n",
       "0                    12.5                 2011            1               0   \n",
       "1                    12.5                 2015            0               0   \n",
       "2                     7.5                 2012            0               0   \n",
       "3                     2.5                 2009            0               0   \n",
       "4                     7.5                 2012            0               0   \n",
       "\n",
       "   Training_score_average State_Of_Origin Foreign_schooled Marital_Status  \\\n",
       "0                      41         ANAMBRA               No        Married   \n",
       "1                      52         ANAMBRA              Yes        Married   \n",
       "2                      42         KATSINA              Yes        Married   \n",
       "3                      42           NIGER              Yes         Single   \n",
       "4                      77       AKWA IBOM              Yes        Married   \n",
       "\n",
       "  Past_Disciplinary_Action Previous_IntraDepartmental_Movement  \\\n",
       "0                       No                                  No   \n",
       "1                       No                                  No   \n",
       "2                       No                                  No   \n",
       "3                       No                                  No   \n",
       "4                       No                                  No   \n",
       "\n",
       "  No_of_previous_employers  Promoted_or_Not  \n",
       "0                        0                0  \n",
       "1                        0                0  \n",
       "2                        0                0  \n",
       "3                        1                0  \n",
       "4                        1                0  "
      ]
     },
     "execution_count": 696,
     "metadata": {},
     "output_type": "execute_result"
    }
   ],
   "source": [
    "train.head()"
   ]
  },
  {
   "cell_type": "markdown",
   "metadata": {},
   "source": [
    "2. # Data Exploration - EDA, Visualization"
   ]
  },
  {
   "cell_type": "markdown",
   "metadata": {},
   "source": [
    "* ## Target variable"
   ]
  },
  {
   "cell_type": "code",
   "execution_count": 697,
   "metadata": {},
   "outputs": [
    {
     "data": {
      "text/plain": [
       "0    35071\n",
       "1     3241\n",
       "Name: Promoted_or_Not, dtype: int64"
      ]
     },
     "execution_count": 697,
     "metadata": {},
     "output_type": "execute_result"
    }
   ],
   "source": [
    "train.Promoted_or_Not.value_counts()"
   ]
  },
  {
   "cell_type": "markdown",
   "metadata": {},
   "source": [
    "* ## Gender"
   ]
  },
  {
   "cell_type": "markdown",
   "metadata": {},
   "source": [
    "### Population distribution - Proportion and Absolute"
   ]
  },
  {
   "cell_type": "code",
   "execution_count": 698,
   "metadata": {},
   "outputs": [
    {
     "data": {
      "image/png": "[encoded data removed]",
      "text/plain": [
       "<Figure size 432x288 with 1 Axes>"
      ]
     },
     "metadata": {},
     "output_type": "display_data"
    }
   ],
   "source": [
    "plt_employees(kind = \"pie\", x = \"Gender\")"
   ]
  },
  {
   "cell_type": "markdown",
   "metadata": {},
   "source": [
    "### Absolute number"
   ]
  },
  {
   "cell_type": "code",
   "execution_count": 699,
   "metadata": {},
   "outputs": [
    {
     "data": {
      "text/plain": [
       "Male      26880\n",
       "Female    11432\n",
       "Name: Gender, dtype: int64"
      ]
     },
     "execution_count": 699,
     "metadata": {},
     "output_type": "execute_result"
    }
   ],
   "source": [
    "train.Gender.value_counts()"
   ]
  },
  {
   "cell_type": "markdown",
   "metadata": {},
   "source": [
    "> There are more male employees than females"
   ]
  },
  {
   "cell_type": "markdown",
   "metadata": {},
   "source": [
    "### Gender distribution per Division"
   ]
  },
  {
   "cell_type": "code",
   "execution_count": 700,
   "metadata": {},
   "outputs": [
    {
     "data": {
      "text/plain": [
       "<seaborn.axisgrid.FacetGrid at 0x7f8004e81240>"
      ]
     },
     "execution_count": 700,
     "metadata": {},
     "output_type": "execute_result"
    },
    {
     "data": {
      "image/png": "[encoded data removed]",
      "text/plain": [
       "<Figure size 1800x720 with 9 Axes>"
      ]
     },
     "metadata": {
      "needs_background": "light"
     },
     "output_type": "display_data"
    }
   ],
   "source": [
    "# Like FacetGrid\n",
    "sns.catplot(kind = \"count\", x = \"Gender\", data = train, col = \"Division\", col_wrap = 5, palette=sns.color_palette(['pink', 'brown']))"
   ]
  },
  {
   "cell_type": "markdown",
   "metadata": {},
   "source": [
    "### Gender distribution per Marital Status"
   ]
  },
  {
   "cell_type": "code",
   "execution_count": 701,
   "metadata": {},
   "outputs": [
    {
     "data": {
      "text/plain": [
       "<seaborn.axisgrid.FacetGrid at 0x7f8004fb8160>"
      ]
     },
     "execution_count": 701,
     "metadata": {},
     "output_type": "execute_result"
    },
    {
     "data": {
      "image/png": "[encoded data removed]",
      "text/plain": [
       "<Figure size 1800x360 with 3 Axes>"
      ]
     },
     "metadata": {
      "needs_background": "light"
     },
     "output_type": "display_data"
    }
   ],
   "source": [
    "sns.catplot(kind = \"count\", x = \"Gender\", data = train, col = \"Marital_Status\", col_wrap = 5, palette=sns.color_palette(['pink', 'brown']))"
   ]
  },
  {
   "cell_type": "markdown",
   "metadata": {},
   "source": [
    "### Promotion per Gender"
   ]
  },
  {
   "cell_type": "code",
   "execution_count": 702,
   "metadata": {},
   "outputs": [],
   "source": [
    "# sns.countplot(x = \"Gender\", hue = \"Promoted_or_Not\", data = train) // hue parameter"
   ]
  },
  {
   "cell_type": "code",
   "execution_count": 703,
   "metadata": {},
   "outputs": [
    {
     "data": {
      "image/png": "[encoded data removed]",
      "text/plain": [
       "<Figure size 432x288 with 1 Axes>"
      ]
     },
     "metadata": {
      "needs_background": "light"
     },
     "output_type": "display_data"
    }
   ],
   "source": [
    "plt_employees_promoted(\"Gender\")"
   ]
  },
  {
   "cell_type": "code",
   "execution_count": 704,
   "metadata": {},
   "outputs": [
    {
     "data": {
      "text/plain": [
       "Male      2223\n",
       "Female    1018\n",
       "Name: Gender, dtype: int64"
      ]
     },
     "execution_count": 704,
     "metadata": {},
     "output_type": "execute_result"
    }
   ],
   "source": [
    "PROMOTED.Gender.value_counts()"
   ]
  },
  {
   "cell_type": "markdown",
   "metadata": {},
   "source": [
    "> Based on the above absolute figures, more males were promoted than females which is reasonable since there are more male employees than female in total.  \n",
    "> But as seen below, the proportion of female employees promoted is more than that of male (Proportion relative to total count per gender)"
   ]
  },
  {
   "cell_type": "markdown",
   "metadata": {},
   "source": [
    "### Promotion rate per Gender / Relative proportion"
   ]
  },
  {
   "cell_type": "code",
   "execution_count": 705,
   "metadata": {},
   "outputs": [
    {
     "name": "stdout",
     "output_type": "stream",
     "text": [
      "Female = 8.90482855143457\n",
      "Male = 8.270089285714285\n"
     ]
    }
   ],
   "source": [
    "get_promotion_rate(x = \"Gender\")"
   ]
  },
  {
   "cell_type": "markdown",
   "metadata": {},
   "source": [
    "* ## Division"
   ]
  },
  {
   "cell_type": "markdown",
   "metadata": {},
   "source": [
    "### Population distribution"
   ]
  },
  {
   "cell_type": "code",
   "execution_count": 706,
   "metadata": {},
   "outputs": [
    {
     "data": {
      "text/plain": [
       "Commercial Sales and Marketing                 11695\n",
       "Customer Support and Field Operations           7973\n",
       "Sourcing and Purchasing                         5052\n",
       "Information Technology and Solution Support     4952\n",
       "Information and Strategy                        3721\n",
       "Business Finance Operations                     1786\n",
       "People/HR Management                            1704\n",
       "Regulatory and Legal services                    733\n",
       "Research and Innovation                          696\n",
       "Name: Division, dtype: int64"
      ]
     },
     "execution_count": 706,
     "metadata": {},
     "output_type": "execute_result"
    }
   ],
   "source": [
    "train.Division.value_counts()"
   ]
  },
  {
   "cell_type": "code",
   "execution_count": 707,
   "metadata": {},
   "outputs": [
    {
     "data": {
      "image/png": "[encoded data removed]",
      "text/plain": [
       "<Figure size 432x288 with 1 Axes>"
      ]
     },
     "metadata": {
      "needs_background": "light"
     },
     "output_type": "display_data"
    }
   ],
   "source": [
    "ax = sns.countplot(x = \"Division\", data = train)\n",
    "ax.set_xticklabels(ax.get_xticklabels(), rotation = 40, ha = \"right\")\n",
    "plt.show()"
   ]
  },
  {
   "cell_type": "markdown",
   "metadata": {},
   "source": [
    "### Promoted"
   ]
  },
  {
   "cell_type": "code",
   "execution_count": 708,
   "metadata": {},
   "outputs": [
    {
     "data": {
      "image/png": "[encoded data removed]",
      "text/plain": [
       "<Figure size 432x288 with 1 Axes>"
      ]
     },
     "metadata": {
      "needs_background": "light"
     },
     "output_type": "display_data"
    }
   ],
   "source": [
    "ax = sns.countplot(x = \"Division\", data = PROMOTED)\n",
    "ax.set_xticklabels(ax.get_xticklabels(), rotation = 40, ha = \"right\")\n",
    "# ax.get_xticklabels() returns keys in order of first to appear (and so on) in column axis which tallies with the order sns.countplot() follows to plot the keys/variables\n",
    "plt.show()"
   ]
  },
  {
   "cell_type": "code",
   "execution_count": 709,
   "metadata": {},
   "outputs": [
    {
     "data": {
      "text/plain": [
       "Commercial Sales and Marketing                 841\n",
       "Customer Support and Field Operations          704\n",
       "Information Technology and Solution Support    532\n",
       "Sourcing and Purchasing                        489\n",
       "Information and Strategy                       348\n",
       "Business Finance Operations                    146\n",
       "People/HR Management                            97\n",
       "Research and Innovation                         43\n",
       "Regulatory and Legal services                   41\n",
       "Name: Division, dtype: int64"
      ]
     },
     "execution_count": 709,
     "metadata": {},
     "output_type": "execute_result"
    }
   ],
   "source": [
    "PROMOTED.Division.value_counts()"
   ]
  },
  {
   "cell_type": "code",
   "execution_count": 710,
   "metadata": {},
   "outputs": [],
   "source": [
    "# axx = sns.countplot(x = \"Division\", data = PROMOTED)\n",
    "# axx.set_xticklabels(PROMOTED.Division.value_counts().keys(), rotation = 40, ha = \"right\")\n",
    "# # PROMOTED.Division.value_counts().keys() returns keys in order of highest magnitude which may not tally with the order sns.countplot() follows to plot the keys/variables\n",
    "# plt.show()"
   ]
  },
  {
   "cell_type": "markdown",
   "metadata": {},
   "source": [
    "### Promotion rate"
   ]
  },
  {
   "cell_type": "code",
   "execution_count": 711,
   "metadata": {},
   "outputs": [
    {
     "name": "stdout",
     "output_type": "stream",
     "text": [
      "Information Technology and Solution Support = 10.743134087237479\n",
      "Sourcing and Purchasing = 9.679334916864608\n",
      "Information and Strategy = 9.352324643912926\n",
      "Customer Support and Field Operations = 8.829800576947196\n",
      "Business Finance Operations = 8.174692049272117\n",
      "Commercial Sales and Marketing = 7.191107310816588\n",
      "Research and Innovation = 6.17816091954023\n",
      "People/HR Management = 5.692488262910798\n",
      "Regulatory and Legal services = 5.5934515688949515\n"
     ]
    }
   ],
   "source": [
    "get_promotion_rate(x = \"Division\")"
   ]
  },
  {
   "cell_type": "markdown",
   "metadata": {},
   "source": [
    "* ## Qualification"
   ]
  },
  {
   "cell_type": "markdown",
   "metadata": {},
   "source": [
    "### Population"
   ]
  },
  {
   "cell_type": "code",
   "execution_count": 712,
   "metadata": {},
   "outputs": [
    {
     "data": {
      "image/png": "[encoded data removed]",
      "text/plain": [
       "<Figure size 432x288 with 1 Axes>"
      ]
     },
     "metadata": {},
     "output_type": "display_data"
    }
   ],
   "source": [
    "plt_employees(kind = \"pie\", x = \"Qualification\")"
   ]
  },
  {
   "cell_type": "markdown",
   "metadata": {},
   "source": [
    "> Based on the overview of the training dataset carried out above, 1679 employees have missing data (Qualification)"
   ]
  },
  {
   "cell_type": "code",
   "execution_count": 713,
   "metadata": {},
   "outputs": [
    {
     "data": {
      "text/html": [
       "<div>\n",
       "<style scoped>\n",
       "    .dataframe tbody tr th:only-of-type {\n",
       "        vertical-align: middle;\n",
       "    }\n",
       "\n",
       "    .dataframe tbody tr th {\n",
       "        vertical-align: top;\n",
       "    }\n",
       "\n",
       "    .dataframe thead th {\n",
       "        text-align: right;\n",
       "    }\n",
       "</style>\n",
       "<table border=\"1\" class=\"dataframe\">\n",
       "  <thead>\n",
       "    <tr style=\"text-align: right;\">\n",
       "      <th></th>\n",
       "      <th>EmployeeNo</th>\n",
       "      <th>Division</th>\n",
       "      <th>Qualification</th>\n",
       "      <th>Gender</th>\n",
       "      <th>Channel_of_Recruitment</th>\n",
       "      <th>Trainings_Attended</th>\n",
       "      <th>Year_of_birth</th>\n",
       "      <th>Last_performance_score</th>\n",
       "      <th>Year_of_recruitment</th>\n",
       "      <th>Targets_met</th>\n",
       "      <th>Previous_Award</th>\n",
       "      <th>Training_score_average</th>\n",
       "      <th>State_Of_Origin</th>\n",
       "      <th>Foreign_schooled</th>\n",
       "      <th>Marital_Status</th>\n",
       "      <th>Past_Disciplinary_Action</th>\n",
       "      <th>Previous_IntraDepartmental_Movement</th>\n",
       "      <th>No_of_previous_employers</th>\n",
       "      <th>Promoted_or_Not</th>\n",
       "    </tr>\n",
       "  </thead>\n",
       "  <tbody>\n",
       "    <tr>\n",
       "      <td>15</td>\n",
       "      <td>YAK/S/00022</td>\n",
       "      <td>Customer Support and Field Operations</td>\n",
       "      <td>NaN</td>\n",
       "      <td>Male</td>\n",
       "      <td>Direct Internal process</td>\n",
       "      <td>2</td>\n",
       "      <td>1980</td>\n",
       "      <td>10.0</td>\n",
       "      <td>2008</td>\n",
       "      <td>0</td>\n",
       "      <td>0</td>\n",
       "      <td>49</td>\n",
       "      <td>RIVERS</td>\n",
       "      <td>Yes</td>\n",
       "      <td>Married</td>\n",
       "      <td>No</td>\n",
       "      <td>No</td>\n",
       "      <td>1</td>\n",
       "      <td>0</td>\n",
       "    </tr>\n",
       "    <tr>\n",
       "      <td>22</td>\n",
       "      <td>YAK/S/00033</td>\n",
       "      <td>Commercial Sales and Marketing</td>\n",
       "      <td>NaN</td>\n",
       "      <td>Female</td>\n",
       "      <td>Direct Internal process</td>\n",
       "      <td>2</td>\n",
       "      <td>1997</td>\n",
       "      <td>2.5</td>\n",
       "      <td>2017</td>\n",
       "      <td>0</td>\n",
       "      <td>0</td>\n",
       "      <td>40</td>\n",
       "      <td>EDO</td>\n",
       "      <td>Yes</td>\n",
       "      <td>Married</td>\n",
       "      <td>No</td>\n",
       "      <td>No</td>\n",
       "      <td>1</td>\n",
       "      <td>0</td>\n",
       "    </tr>\n",
       "    <tr>\n",
       "      <td>28</td>\n",
       "      <td>YAK/S/00044</td>\n",
       "      <td>Commercial Sales and Marketing</td>\n",
       "      <td>NaN</td>\n",
       "      <td>Male</td>\n",
       "      <td>Agency and others</td>\n",
       "      <td>4</td>\n",
       "      <td>1997</td>\n",
       "      <td>5.0</td>\n",
       "      <td>2017</td>\n",
       "      <td>0</td>\n",
       "      <td>0</td>\n",
       "      <td>40</td>\n",
       "      <td>CROSS RIVER</td>\n",
       "      <td>Yes</td>\n",
       "      <td>Married</td>\n",
       "      <td>No</td>\n",
       "      <td>No</td>\n",
       "      <td>1</td>\n",
       "      <td>0</td>\n",
       "    </tr>\n",
       "    <tr>\n",
       "      <td>60</td>\n",
       "      <td>YAK/S/00091</td>\n",
       "      <td>Commercial Sales and Marketing</td>\n",
       "      <td>NaN</td>\n",
       "      <td>Female</td>\n",
       "      <td>Direct Internal process</td>\n",
       "      <td>2</td>\n",
       "      <td>2001</td>\n",
       "      <td>0.0</td>\n",
       "      <td>2018</td>\n",
       "      <td>0</td>\n",
       "      <td>0</td>\n",
       "      <td>47</td>\n",
       "      <td>ZAMFARA</td>\n",
       "      <td>Yes</td>\n",
       "      <td>Single</td>\n",
       "      <td>No</td>\n",
       "      <td>No</td>\n",
       "      <td>2</td>\n",
       "      <td>0</td>\n",
       "    </tr>\n",
       "    <tr>\n",
       "      <td>137</td>\n",
       "      <td>YAK/S/00190</td>\n",
       "      <td>Customer Support and Field Operations</td>\n",
       "      <td>NaN</td>\n",
       "      <td>Female</td>\n",
       "      <td>Agency and others</td>\n",
       "      <td>2</td>\n",
       "      <td>1988</td>\n",
       "      <td>10.0</td>\n",
       "      <td>2010</td>\n",
       "      <td>0</td>\n",
       "      <td>0</td>\n",
       "      <td>56</td>\n",
       "      <td>LAGOS</td>\n",
       "      <td>Yes</td>\n",
       "      <td>Single</td>\n",
       "      <td>No</td>\n",
       "      <td>No</td>\n",
       "      <td>5</td>\n",
       "      <td>0</td>\n",
       "    </tr>\n",
       "    <tr>\n",
       "      <td>...</td>\n",
       "      <td>...</td>\n",
       "      <td>...</td>\n",
       "      <td>...</td>\n",
       "      <td>...</td>\n",
       "      <td>...</td>\n",
       "      <td>...</td>\n",
       "      <td>...</td>\n",
       "      <td>...</td>\n",
       "      <td>...</td>\n",
       "      <td>...</td>\n",
       "      <td>...</td>\n",
       "      <td>...</td>\n",
       "      <td>...</td>\n",
       "      <td>...</td>\n",
       "      <td>...</td>\n",
       "      <td>...</td>\n",
       "      <td>...</td>\n",
       "      <td>...</td>\n",
       "      <td>...</td>\n",
       "    </tr>\n",
       "    <tr>\n",
       "      <td>38212</td>\n",
       "      <td>YAK/S/54656</td>\n",
       "      <td>Information and Strategy</td>\n",
       "      <td>NaN</td>\n",
       "      <td>Male</td>\n",
       "      <td>Agency and others</td>\n",
       "      <td>3</td>\n",
       "      <td>1996</td>\n",
       "      <td>10.0</td>\n",
       "      <td>2016</td>\n",
       "      <td>0</td>\n",
       "      <td>0</td>\n",
       "      <td>75</td>\n",
       "      <td>LAGOS</td>\n",
       "      <td>Yes</td>\n",
       "      <td>Married</td>\n",
       "      <td>No</td>\n",
       "      <td>No</td>\n",
       "      <td>0</td>\n",
       "      <td>0</td>\n",
       "    </tr>\n",
       "    <tr>\n",
       "      <td>38223</td>\n",
       "      <td>YAK/S/54672</td>\n",
       "      <td>Information and Strategy</td>\n",
       "      <td>NaN</td>\n",
       "      <td>Male</td>\n",
       "      <td>Direct Internal process</td>\n",
       "      <td>2</td>\n",
       "      <td>1994</td>\n",
       "      <td>7.5</td>\n",
       "      <td>2017</td>\n",
       "      <td>0</td>\n",
       "      <td>0</td>\n",
       "      <td>76</td>\n",
       "      <td>OSUN</td>\n",
       "      <td>Yes</td>\n",
       "      <td>Married</td>\n",
       "      <td>No</td>\n",
       "      <td>No</td>\n",
       "      <td>0</td>\n",
       "      <td>0</td>\n",
       "    </tr>\n",
       "    <tr>\n",
       "      <td>38236</td>\n",
       "      <td>YAK/S/54693</td>\n",
       "      <td>Commercial Sales and Marketing</td>\n",
       "      <td>NaN</td>\n",
       "      <td>Female</td>\n",
       "      <td>Direct Internal process</td>\n",
       "      <td>2</td>\n",
       "      <td>1986</td>\n",
       "      <td>7.5</td>\n",
       "      <td>2012</td>\n",
       "      <td>0</td>\n",
       "      <td>0</td>\n",
       "      <td>45</td>\n",
       "      <td>EDO</td>\n",
       "      <td>Yes</td>\n",
       "      <td>Married</td>\n",
       "      <td>No</td>\n",
       "      <td>No</td>\n",
       "      <td>0</td>\n",
       "      <td>0</td>\n",
       "    </tr>\n",
       "    <tr>\n",
       "      <td>38262</td>\n",
       "      <td>YAK/S/54730</td>\n",
       "      <td>People/HR Management</td>\n",
       "      <td>NaN</td>\n",
       "      <td>Female</td>\n",
       "      <td>Agency and others</td>\n",
       "      <td>2</td>\n",
       "      <td>1993</td>\n",
       "      <td>7.5</td>\n",
       "      <td>2017</td>\n",
       "      <td>0</td>\n",
       "      <td>0</td>\n",
       "      <td>45</td>\n",
       "      <td>RIVERS</td>\n",
       "      <td>Yes</td>\n",
       "      <td>Married</td>\n",
       "      <td>No</td>\n",
       "      <td>No</td>\n",
       "      <td>1</td>\n",
       "      <td>0</td>\n",
       "    </tr>\n",
       "    <tr>\n",
       "      <td>38310</td>\n",
       "      <td>YAK/S/54807</td>\n",
       "      <td>Commercial Sales and Marketing</td>\n",
       "      <td>NaN</td>\n",
       "      <td>Male</td>\n",
       "      <td>Direct Internal process</td>\n",
       "      <td>2</td>\n",
       "      <td>1992</td>\n",
       "      <td>2.5</td>\n",
       "      <td>2017</td>\n",
       "      <td>0</td>\n",
       "      <td>0</td>\n",
       "      <td>37</td>\n",
       "      <td>KWARA</td>\n",
       "      <td>Yes</td>\n",
       "      <td>Married</td>\n",
       "      <td>No</td>\n",
       "      <td>No</td>\n",
       "      <td>1</td>\n",
       "      <td>0</td>\n",
       "    </tr>\n",
       "  </tbody>\n",
       "</table>\n",
       "<p>1679 rows × 19 columns</p>\n",
       "</div>"
      ],
      "text/plain": [
       "        EmployeeNo                               Division Qualification  \\\n",
       "15     YAK/S/00022  Customer Support and Field Operations           NaN   \n",
       "22     YAK/S/00033         Commercial Sales and Marketing           NaN   \n",
       "28     YAK/S/00044         Commercial Sales and Marketing           NaN   \n",
       "60     YAK/S/00091         Commercial Sales and Marketing           NaN   \n",
       "137    YAK/S/00190  Customer Support and Field Operations           NaN   \n",
       "...            ...                                    ...           ...   \n",
       "38212  YAK/S/54656               Information and Strategy           NaN   \n",
       "38223  YAK/S/54672               Information and Strategy           NaN   \n",
       "38236  YAK/S/54693         Commercial Sales and Marketing           NaN   \n",
       "38262  YAK/S/54730                   People/HR Management           NaN   \n",
       "38310  YAK/S/54807         Commercial Sales and Marketing           NaN   \n",
       "\n",
       "       Gender   Channel_of_Recruitment  Trainings_Attended  Year_of_birth  \\\n",
       "15       Male  Direct Internal process                   2           1980   \n",
       "22     Female  Direct Internal process                   2           1997   \n",
       "28       Male        Agency and others                   4           1997   \n",
       "60     Female  Direct Internal process                   2           2001   \n",
       "137    Female        Agency and others                   2           1988   \n",
       "...       ...                      ...                 ...            ...   \n",
       "38212    Male        Agency and others                   3           1996   \n",
       "38223    Male  Direct Internal process                   2           1994   \n",
       "38236  Female  Direct Internal process                   2           1986   \n",
       "38262  Female        Agency and others                   2           1993   \n",
       "38310    Male  Direct Internal process                   2           1992   \n",
       "\n",
       "       Last_performance_score  Year_of_recruitment  Targets_met  \\\n",
       "15                       10.0                 2008            0   \n",
       "22                        2.5                 2017            0   \n",
       "28                        5.0                 2017            0   \n",
       "60                        0.0                 2018            0   \n",
       "137                      10.0                 2010            0   \n",
       "...                       ...                  ...          ...   \n",
       "38212                    10.0                 2016            0   \n",
       "38223                     7.5                 2017            0   \n",
       "38236                     7.5                 2012            0   \n",
       "38262                     7.5                 2017            0   \n",
       "38310                     2.5                 2017            0   \n",
       "\n",
       "       Previous_Award  Training_score_average State_Of_Origin  \\\n",
       "15                  0                      49          RIVERS   \n",
       "22                  0                      40             EDO   \n",
       "28                  0                      40     CROSS RIVER   \n",
       "60                  0                      47         ZAMFARA   \n",
       "137                 0                      56           LAGOS   \n",
       "...               ...                     ...             ...   \n",
       "38212               0                      75           LAGOS   \n",
       "38223               0                      76            OSUN   \n",
       "38236               0                      45             EDO   \n",
       "38262               0                      45          RIVERS   \n",
       "38310               0                      37           KWARA   \n",
       "\n",
       "      Foreign_schooled Marital_Status Past_Disciplinary_Action  \\\n",
       "15                 Yes        Married                       No   \n",
       "22                 Yes        Married                       No   \n",
       "28                 Yes        Married                       No   \n",
       "60                 Yes         Single                       No   \n",
       "137                Yes         Single                       No   \n",
       "...                ...            ...                      ...   \n",
       "38212              Yes        Married                       No   \n",
       "38223              Yes        Married                       No   \n",
       "38236              Yes        Married                       No   \n",
       "38262              Yes        Married                       No   \n",
       "38310              Yes        Married                       No   \n",
       "\n",
       "      Previous_IntraDepartmental_Movement No_of_previous_employers  \\\n",
       "15                                     No                        1   \n",
       "22                                     No                        1   \n",
       "28                                     No                        1   \n",
       "60                                     No                        2   \n",
       "137                                    No                        5   \n",
       "...                                   ...                      ...   \n",
       "38212                                  No                        0   \n",
       "38223                                  No                        0   \n",
       "38236                                  No                        0   \n",
       "38262                                  No                        1   \n",
       "38310                                  No                        1   \n",
       "\n",
       "       Promoted_or_Not  \n",
       "15                   0  \n",
       "22                   0  \n",
       "28                   0  \n",
       "60                   0  \n",
       "137                  0  \n",
       "...                ...  \n",
       "38212                0  \n",
       "38223                0  \n",
       "38236                0  \n",
       "38262                0  \n",
       "38310                0  \n",
       "\n",
       "[1679 rows x 19 columns]"
      ]
     },
     "execution_count": 713,
     "metadata": {},
     "output_type": "execute_result"
    }
   ],
   "source": [
    "train.loc[train.Qualification.isnull()]"
   ]
  },
  {
   "cell_type": "code",
   "execution_count": 714,
   "metadata": {},
   "outputs": [],
   "source": [
    "# sns.catplot(x = \"Qualification\", data = train, col = \"Promoted_or_Not\", kind = \"count\")"
   ]
  },
  {
   "cell_type": "markdown",
   "metadata": {},
   "source": [
    "### Promoted"
   ]
  },
  {
   "cell_type": "code",
   "execution_count": 715,
   "metadata": {},
   "outputs": [
    {
     "data": {
      "image/png": "[encoded data removed]",
      "text/plain": [
       "<Figure size 432x288 with 1 Axes>"
      ]
     },
     "metadata": {
      "needs_background": "light"
     },
     "output_type": "display_data"
    }
   ],
   "source": [
    "plt_employees_promoted(\"Qualification\")"
   ]
  },
  {
   "cell_type": "markdown",
   "metadata": {},
   "source": [
    "### Promotion rate"
   ]
  },
  {
   "cell_type": "code",
   "execution_count": 716,
   "metadata": {},
   "outputs": [
    {
     "name": "stdout",
     "output_type": "stream",
     "text": [
      "MSc, MBA and PhD = 9.666634826631006\n",
      "Non-University Education = 8.873720136518772\n",
      "First Degree or HND = 8.190632574869028\n"
     ]
    }
   ],
   "source": [
    "get_promotion_rate(x = \"Qualification\")"
   ]
  },
  {
   "cell_type": "code",
   "execution_count": 717,
   "metadata": {},
   "outputs": [],
   "source": [
    "# visualize promoted per x\n",
    "# compute proportion"
   ]
  },
  {
   "cell_type": "markdown",
   "metadata": {},
   "source": [
    "* ## Channel of recruitment"
   ]
  },
  {
   "cell_type": "markdown",
   "metadata": {},
   "source": [
    "### Population Distribution"
   ]
  },
  {
   "cell_type": "code",
   "execution_count": 718,
   "metadata": {},
   "outputs": [
    {
     "data": {
      "image/png": "[encoded data removed]",
      "text/plain": [
       "<Figure size 432x288 with 1 Axes>"
      ]
     },
     "metadata": {},
     "output_type": "display_data"
    }
   ],
   "source": [
    "plt_employees(kind = \"pie\", data = train, x = \"Channel_of_Recruitment\")"
   ]
  },
  {
   "cell_type": "markdown",
   "metadata": {},
   "source": [
    "### Promoted"
   ]
  },
  {
   "cell_type": "code",
   "execution_count": 719,
   "metadata": {},
   "outputs": [
    {
     "data": {
      "image/png": "[encoded data removed]",
      "text/plain": [
       "<Figure size 432x288 with 1 Axes>"
      ]
     },
     "metadata": {
      "needs_background": "light"
     },
     "output_type": "display_data"
    }
   ],
   "source": [
    "plt_employees_promoted(\"Channel_of_Recruitment\")"
   ]
  },
  {
   "cell_type": "markdown",
   "metadata": {},
   "source": [
    "### Promotion rate"
   ]
  },
  {
   "cell_type": "code",
   "execution_count": 720,
   "metadata": {},
   "outputs": [
    {
     "name": "stdout",
     "output_type": "stream",
     "text": [
      "Referral and Special candidates = 12.128712871287128\n",
      "Agency and others = 8.427968090098545\n",
      "Direct Internal process = 8.317895516858096\n"
     ]
    }
   ],
   "source": [
    "get_promotion_rate(x = \"Channel_of_Recruitment\")"
   ]
  },
  {
   "cell_type": "markdown",
   "metadata": {},
   "source": [
    "* ## Trainings Attended"
   ]
  },
  {
   "cell_type": "markdown",
   "metadata": {},
   "source": [
    "### Population Distribution"
   ]
  },
  {
   "cell_type": "code",
   "execution_count": 721,
   "metadata": {},
   "outputs": [
    {
     "data": {
      "text/plain": [
       "2     30981\n",
       "3      5631\n",
       "4      1244\n",
       "5       316\n",
       "6        93\n",
       "7        28\n",
       "8         6\n",
       "10        5\n",
       "11        4\n",
       "9         4\n",
       "Name: Trainings_Attended, dtype: int64"
      ]
     },
     "execution_count": 721,
     "metadata": {},
     "output_type": "execute_result"
    }
   ],
   "source": [
    "train.Trainings_Attended.value_counts()"
   ]
  },
  {
   "cell_type": "markdown",
   "metadata": {},
   "source": [
    "> All employees attended at least 2 trainings"
   ]
  },
  {
   "cell_type": "markdown",
   "metadata": {},
   "source": [
    "### Promoted"
   ]
  },
  {
   "cell_type": "code",
   "execution_count": 722,
   "metadata": {},
   "outputs": [
    {
     "data": {
      "text/plain": [
       "2    2717\n",
       "3     411\n",
       "4      92\n",
       "5      17\n",
       "7       2\n",
       "6       2\n",
       "Name: Trainings_Attended, dtype: int64"
      ]
     },
     "execution_count": 722,
     "metadata": {},
     "output_type": "execute_result"
    }
   ],
   "source": [
    "PROMOTED.Trainings_Attended.value_counts()"
   ]
  },
  {
   "cell_type": "markdown",
   "metadata": {},
   "source": [
    "> There were no promotions for employees that attended 8, 9, 10, 11 trainings"
   ]
  },
  {
   "cell_type": "markdown",
   "metadata": {},
   "source": [
    "### Promotion rate"
   ]
  },
  {
   "cell_type": "code",
   "execution_count": 723,
   "metadata": {},
   "outputs": [
    {
     "name": "stdout",
     "output_type": "stream",
     "text": [
      "2 = 8.769891223653206\n",
      "4 = 7.395498392282958\n",
      "3 = 7.298881193393713\n",
      "7 = 7.142857142857142\n",
      "5 = 5.379746835443038\n",
      "6 = 2.1505376344086025\n"
     ]
    }
   ],
   "source": [
    "get_promotion_rate(\"Trainings_Attended\")"
   ]
  },
  {
   "cell_type": "markdown",
   "metadata": {},
   "source": [
    "* ## Training score average"
   ]
  },
  {
   "cell_type": "markdown",
   "metadata": {},
   "source": [
    "### Population distribution"
   ]
  },
  {
   "cell_type": "code",
   "execution_count": 724,
   "metadata": {},
   "outputs": [
    {
     "data": {
      "text/plain": [
       "41    1873\n",
       "42    1867\n",
       "40    1719\n",
       "43    1634\n",
       "52    1517\n",
       "      ... \n",
       "88      30\n",
       "91      24\n",
       "33      18\n",
       "32       5\n",
       "31       1\n",
       "Name: Training_score_average, Length: 61, dtype: int64"
      ]
     },
     "execution_count": 724,
     "metadata": {},
     "output_type": "execute_result"
    }
   ],
   "source": [
    "train.Training_score_average.value_counts()"
   ]
  },
  {
   "cell_type": "code",
   "execution_count": 725,
   "metadata": {},
   "outputs": [],
   "source": [
    "# ax = sns.countplot(x = \"Training_score_average\", data = train)\n",
    "# ax.set_xticklabels(ax.get_xticklabels(), rotation = 40, ha = \"right\")\n",
    "# plt.figure(figsize = (360,5), dpi=360)\n",
    "# plt.show()"
   ]
  },
  {
   "cell_type": "markdown",
   "metadata": {},
   "source": [
    "### Promoted"
   ]
  },
  {
   "cell_type": "code",
   "execution_count": 726,
   "metadata": {},
   "outputs": [],
   "source": [
    "# plt_employees_promoted(\"Training_score_average\")"
   ]
  },
  {
   "cell_type": "code",
   "execution_count": 727,
   "metadata": {},
   "outputs": [
    {
     "data": {
      "text/plain": [
       "74    107\n",
       "73     98\n",
       "75     98\n",
       "52     98\n",
       "51     97\n",
       "62     92\n",
       "53     92\n",
       "50     88\n",
       "72     84\n",
       "76     81\n",
       "54     80\n",
       "63     79\n",
       "78     77\n",
       "43     75\n",
       "42     75\n",
       "77     74\n",
       "40     74\n",
       "41     73\n",
       "56     65\n",
       "55     65\n",
       "70     64\n",
       "49     62\n",
       "61     61\n",
       "84     59\n",
       "64     58\n",
       "82     57\n",
       "71     56\n",
       "57     54\n",
       "79     54\n",
       "59     53\n",
       "81     53\n",
       "86     52\n",
       "39     52\n",
       "80     50\n",
       "60     50\n",
       "44     49\n",
       "48     49\n",
       "69     48\n",
       "83     48\n",
       "85     47\n",
       "66     43\n",
       "58     39\n",
       "46     37\n",
       "89     36\n",
       "67     36\n",
       "65     35\n",
       "47     34\n",
       "68     31\n",
       "90     31\n",
       "87     31\n",
       "88     29\n",
       "45     27\n",
       "38     25\n",
       "91     24\n",
       "37     19\n",
       "35      7\n",
       "36      6\n",
       "34      2\n",
       "33      1\n",
       "Name: Training_score_average, dtype: int64"
      ]
     },
     "execution_count": 727,
     "metadata": {},
     "output_type": "execute_result"
    }
   ],
   "source": [
    "PROMOTED.Training_score_average.value_counts()"
   ]
  },
  {
   "cell_type": "markdown",
   "metadata": {},
   "source": [
    "### Promotion rate"
   ]
  },
  {
   "cell_type": "code",
   "execution_count": 728,
   "metadata": {},
   "outputs": [
    {
     "name": "stdout",
     "output_type": "stream",
     "text": [
      "91 = 100.0\n",
      "90 = 100.0\n",
      "89 = 100.0\n",
      "88 = 96.66666666666667\n",
      "87 = 100.0\n",
      "86 = 96.29629629629629\n",
      "85 = 90.38461538461539\n",
      "84 = 81.94444444444444\n",
      "83 = 59.25925925925925\n",
      "82 = 42.22222222222222\n",
      "81 = 24.766355140186917\n",
      "80 = 16.722408026755854\n",
      "79 = 11.76470588235294\n",
      "78 = 12.339743589743591\n",
      "77 = 9.814323607427056\n",
      "76 = 9.96309963099631\n",
      "75 = 11.878787878787879\n",
      "74 = 10.41869522882181\n",
      "73 = 10.436634717784878\n",
      "72 = 9.988109393579073\n",
      "71 = 7.026348808030113\n",
      "70 = 10.110584518167457\n",
      "69 = 9.75609756097561\n",
      "68 = 8.93371757925072\n",
      "67 = 12.811387900355871\n",
      "66 = 15.034965034965033\n",
      "65 = 9.91501416430595\n",
      "64 = 11.24031007751938\n",
      "63 = 12.172573189522343\n",
      "62 = 12.315930388219545\n",
      "61 = 8.519553072625698\n",
      "60 = 7.564296520423601\n",
      "59 = 10.33138401559454\n",
      "58 = 9.512195121951219\n",
      "57 = 12.796208530805686\n",
      "56 = 12.745098039215685\n",
      "55 = 9.558823529411764\n",
      "54 = 7.662835249042145\n",
      "53 = 7.05521472392638\n",
      "52 = 6.460118655240607\n",
      "51 = 6.703524533517623\n",
      "50 = 6.489675516224189\n",
      "49 = 6.11439842209073\n",
      "48 = 6.472919418758257\n",
      "47 = 5.422647527910686\n",
      "46 = 5.270655270655271\n",
      "45 = 3.0439684329199546\n",
      "44 = 3.867403314917127\n",
      "43 = 4.589963280293757\n",
      "42 = 4.017139796464917\n",
      "41 = 3.897490656700481\n",
      "40 = 4.304828388598022\n",
      "39 = 4.2657916324856435\n",
      "38 = 3.048780487804878\n",
      "37 = 4.025423728813559\n",
      "36 = 2.5974025974025974\n",
      "35 = 5.147058823529411\n",
      "34 = 4.878048780487805\n",
      "33 = 5.555555555555555\n"
     ]
    }
   ],
   "source": [
    "get_promotion_rate(\"Training_score_average\", sort = \"key\")"
   ]
  },
  {
   "cell_type": "markdown",
   "metadata": {},
   "source": [
    "> The above promotion rates shows that employees with an excellent \"training score average\" are more likely to be promoted"
   ]
  },
  {
   "cell_type": "markdown",
   "metadata": {},
   "source": [
    "* ## Last performance score"
   ]
  },
  {
   "cell_type": "markdown",
   "metadata": {},
   "source": [
    " ### Distribution of employees by score"
   ]
  },
  {
   "cell_type": "code",
   "execution_count": 729,
   "metadata": {},
   "outputs": [
    {
     "data": {
      "image/png": "[encoded data removed]",
      "text/plain": [
       "<Figure size 432x288 with 1 Axes>"
      ]
     },
     "metadata": {},
     "output_type": "display_data"
    }
   ],
   "source": [
    "plt_employees(kind = \"pie\", x = \"Last_performance_score\")"
   ]
  },
  {
   "cell_type": "markdown",
   "metadata": {},
   "source": [
    "### Promoted"
   ]
  },
  {
   "cell_type": "code",
   "execution_count": 730,
   "metadata": {},
   "outputs": [
    {
     "data": {
      "image/png": "[encoded data removed]",
      "text/plain": [
       "<Figure size 432x288 with 1 Axes>"
      ]
     },
     "metadata": {
      "needs_background": "light"
     },
     "output_type": "display_data"
    }
   ],
   "source": [
    " plt_employees_promoted(\"Last_performance_score\")"
   ]
  },
  {
   "cell_type": "markdown",
   "metadata": {},
   "source": [
    "### Promotion rate"
   ]
  },
  {
   "cell_type": "code",
   "execution_count": 731,
   "metadata": {},
   "outputs": [
    {
     "name": "stdout",
     "output_type": "stream",
     "text": [
      "12.5 = 15.816388652136856\n",
      "0.0 = 8.46815834767642\n",
      "10.0 = 8.15060588574726\n",
      "7.5 = 7.1884861079042555\n",
      "5.0 = 4.6875\n",
      "2.5 = 1.3641618497109826\n"
     ]
    }
   ],
   "source": [
    "get_promotion_rate(\"Last_performance_score\")"
   ]
  },
  {
   "cell_type": "markdown",
   "metadata": {},
   "source": [
    "* ## Targets met"
   ]
  },
  {
   "cell_type": "markdown",
   "metadata": {},
   "source": [
    "### Population"
   ]
  },
  {
   "cell_type": "code",
   "execution_count": 732,
   "metadata": {},
   "outputs": [
    {
     "data": {
      "image/png": "[encoded data removed]",
      "text/plain": [
       "<Figure size 432x288 with 1 Axes>"
      ]
     },
     "metadata": {},
     "output_type": "display_data"
    }
   ],
   "source": [
    "plt_employees(kind = \"pie\", x =\"Targets_met\")"
   ]
  },
  {
   "cell_type": "markdown",
   "metadata": {},
   "source": [
    "### Promoted"
   ]
  },
  {
   "cell_type": "code",
   "execution_count": 733,
   "metadata": {},
   "outputs": [
    {
     "data": {
      "image/png": "[encoded data removed]",
      "text/plain": [
       "<Figure size 432x288 with 1 Axes>"
      ]
     },
     "metadata": {
      "needs_background": "light"
     },
     "output_type": "display_data"
    }
   ],
   "source": [
    "plt_employees_promoted(\"Targets_met\")"
   ]
  },
  {
   "cell_type": "markdown",
   "metadata": {},
   "source": [
    "### Promotion rate"
   ]
  },
  {
   "cell_type": "code",
   "execution_count": 734,
   "metadata": {},
   "outputs": [
    {
     "name": "stdout",
     "output_type": "stream",
     "text": [
      "1 = 16.91807157645667\n",
      "0 = 3.844602226883976\n"
     ]
    }
   ],
   "source": [
    "get_promotion_rate(\"Targets_met\")"
   ]
  },
  {
   "cell_type": "markdown",
   "metadata": {},
   "source": [
    "* ## Previous Award"
   ]
  },
  {
   "cell_type": "markdown",
   "metadata": {},
   "source": [
    "### Number of employees with previous award or not"
   ]
  },
  {
   "cell_type": "code",
   "execution_count": 735,
   "metadata": {},
   "outputs": [
    {
     "data": {
      "image/png": "[encoded data removed]",
      "text/plain": [
       "<Figure size 432x288 with 1 Axes>"
      ]
     },
     "metadata": {},
     "output_type": "display_data"
    }
   ],
   "source": [
    "plt_employees(kind = \"pie\", x = \"Previous_Award\")"
   ]
  },
  {
   "cell_type": "code",
   "execution_count": 736,
   "metadata": {},
   "outputs": [
    {
     "data": {
      "text/plain": [
       "0    37425\n",
       "1      887\n",
       "Name: Previous_Award, dtype: int64"
      ]
     },
     "execution_count": 736,
     "metadata": {},
     "output_type": "execute_result"
    }
   ],
   "source": [
    "train.Previous_Award.value_counts()"
   ]
  },
  {
   "cell_type": "markdown",
   "metadata": {},
   "source": [
    "### Promoted"
   ]
  },
  {
   "cell_type": "code",
   "execution_count": 737,
   "metadata": {},
   "outputs": [
    {
     "data": {
      "image/png": "[encoded data removed]",
      "text/plain": [
       "<Figure size 432x288 with 1 Axes>"
      ]
     },
     "metadata": {
      "needs_background": "light"
     },
     "output_type": "display_data"
    }
   ],
   "source": [
    "plt_employees_promoted(\"Previous_Award\")"
   ]
  },
  {
   "cell_type": "code",
   "execution_count": 738,
   "metadata": {},
   "outputs": [
    {
     "data": {
      "text/plain": [
       "0    2843\n",
       "1     398\n",
       "Name: Previous_Award, dtype: int64"
      ]
     },
     "execution_count": 738,
     "metadata": {},
     "output_type": "execute_result"
    }
   ],
   "source": [
    "PROMOTED.Previous_Award.value_counts()"
   ]
  },
  {
   "cell_type": "markdown",
   "metadata": {},
   "source": [
    "### Promotion rate"
   ]
  },
  {
   "cell_type": "code",
   "execution_count": 739,
   "metadata": {},
   "outputs": [
    {
     "name": "stdout",
     "output_type": "stream",
     "text": [
      "1 = 44.87034949267193\n",
      "0 = 7.596526386105544\n"
     ]
    }
   ],
   "source": [
    "get_promotion_rate(\"Previous_Award\")"
   ]
  },
  {
   "cell_type": "markdown",
   "metadata": {},
   "source": [
    "> There were more absolute promotions for those without a previous award.  \n",
    "> But looking at the proportion rate, only about 8% of those with no previous award were promoted while about 45% of those with a previous award were promoted. This means an employee is more likely to be promoted if they have a previous award"
   ]
  },
  {
   "cell_type": "markdown",
   "metadata": {},
   "source": [
    "#### Alternative"
   ]
  },
  {
   "cell_type": "code",
   "execution_count": 740,
   "metadata": {},
   "outputs": [
    {
     "data": {
      "text/plain": [
       "<seaborn.axisgrid.FacetGrid at 0x7f802da6abe0>"
      ]
     },
     "execution_count": 740,
     "metadata": {},
     "output_type": "execute_result"
    },
    {
     "data": {
      "image/png": "[encoded data removed]",
      "text/plain": [
       "<Figure size 360x360 with 1 Axes>"
      ]
     },
     "metadata": {
      "needs_background": "light"
     },
     "output_type": "display_data"
    }
   ],
   "source": [
    "sns.catplot(kind = \"bar\", x = \"Previous_Award\", y = \"Promoted_or_Not\", data = train).set_axis_labels(\"Previous_Award\", \"Promotion rate\")"
   ]
  },
  {
   "cell_type": "markdown",
   "metadata": {},
   "source": [
    "> A barplot can also be used to (visually) show the rate of promotion per feature.  \n",
    "> A quantitative value seems more appropriate to represent the rate - using the get_promotion_rate() function"
   ]
  },
  {
   "cell_type": "code",
   "execution_count": 741,
   "metadata": {},
   "outputs": [
    {
     "data": {
      "text/plain": [
       "<matplotlib.axes._subplots.AxesSubplot at 0x7f801eadff28>"
      ]
     },
     "execution_count": 741,
     "metadata": {},
     "output_type": "execute_result"
    },
    {
     "data": {
      "image/png": "[encoded data removed]",
      "text/plain": [
       "<Figure size 432x288 with 1 Axes>"
      ]
     },
     "metadata": {
      "needs_background": "light"
     },
     "output_type": "display_data"
    }
   ],
   "source": [
    "sns.scatterplot(x = \"Trainings_Attended\", y = \"Training_score_average\", data = train)"
   ]
  },
  {
   "cell_type": "code",
   "execution_count": 742,
   "metadata": {},
   "outputs": [
    {
     "data": {
      "text/plain": [
       "(0.041065418237102295, 8.907252091777589e-16)"
      ]
     },
     "execution_count": 742,
     "metadata": {},
     "output_type": "execute_result"
    }
   ],
   "source": [
    "pearsonr(train.Trainings_Attended, train.Training_score_average)"
   ]
  },
  {
   "cell_type": "markdown",
   "metadata": {},
   "source": [
    "* ## State of origin"
   ]
  },
  {
   "cell_type": "markdown",
   "metadata": {},
   "source": [
    "### Diversity"
   ]
  },
  {
   "cell_type": "code",
   "execution_count": 743,
   "metadata": {},
   "outputs": [
    {
     "data": {
      "text/plain": [
       "(37,)"
      ]
     },
     "execution_count": 743,
     "metadata": {},
     "output_type": "execute_result"
    }
   ],
   "source": [
    "train.State_Of_Origin.value_counts().shape"
   ]
  },
  {
   "cell_type": "markdown",
   "metadata": {},
   "source": [
    "> This categorical feature has high cardinality - Be careful when encoding (ohe) for models such as RF - trees?"
   ]
  },
  {
   "cell_type": "markdown",
   "metadata": {},
   "source": [
    "> All states (including FCT) are represented"
   ]
  },
  {
   "cell_type": "markdown",
   "metadata": {},
   "source": [
    "### Population distribution"
   ]
  },
  {
   "cell_type": "code",
   "execution_count": 744,
   "metadata": {},
   "outputs": [
    {
     "data": {
      "image/png": "[encoded data removed]",
      "text/plain": [
       "<Figure size 432x288 with 1 Axes>"
      ]
     },
     "metadata": {
      "needs_background": "light"
     },
     "output_type": "display_data"
    }
   ],
   "source": [
    "ax = sns.countplot(x = \"State_Of_Origin\", data = train)\n",
    "ax.set_xticklabels(ax.get_xticklabels(), rotation = 90, fontsize = \"small\")\n",
    "plt.show()"
   ]
  },
  {
   "cell_type": "markdown",
   "metadata": {},
   "source": [
    "> So many employees state of origin is Lagos State"
   ]
  },
  {
   "cell_type": "markdown",
   "metadata": {},
   "source": [
    "### Promoted"
   ]
  },
  {
   "cell_type": "code",
   "execution_count": 745,
   "metadata": {},
   "outputs": [
    {
     "data": {
      "image/png": "[encoded data removed]",
      "text/plain": [
       "<Figure size 432x288 with 1 Axes>"
      ]
     },
     "metadata": {
      "needs_background": "light"
     },
     "output_type": "display_data"
    }
   ],
   "source": [
    "ax = sns.countplot(x = \"State_Of_Origin\", data = PROMOTED)\n",
    "ax.set_xticklabels(ax.get_xticklabels(), rotation = 90, fontsize = \"small\")\n",
    "plt.show()"
   ]
  },
  {
   "cell_type": "markdown",
   "metadata": {},
   "source": [
    "### Promotion rate"
   ]
  },
  {
   "cell_type": "code",
   "execution_count": 746,
   "metadata": {},
   "outputs": [
    {
     "name": "stdout",
     "output_type": "stream",
     "text": [
      "ONDO = 11.771428571428572\n",
      "GOMBE = 10.309278350515463\n",
      "TARABA = 10.0\n",
      "SOKOTO = 9.619238476953909\n",
      "ANAMBRA = 9.5906432748538\n",
      "OSUN = 9.472551130247577\n",
      "KEBBI = 9.16030534351145\n",
      "BORNO = 8.94854586129754\n",
      "ENUGU = 8.878048780487804\n",
      "IMO = 8.875286916602908\n",
      "NASSARAWA = 8.860759493670885\n",
      "PLATEAU = 8.795669824086604\n",
      "KANO = 8.793208004851426\n",
      "OYO = 8.687002652519894\n",
      "DELTA = 8.657465495608532\n",
      "LAGOS = 8.6073500967118\n",
      "RIVERS = 8.595859585958596\n",
      "EKITI = 8.571428571428571\n",
      "AKWA IBOM = 8.469539375928678\n",
      "CROSS RIVER = 8.282828282828284\n",
      "KADUNA = 8.220157255182272\n",
      "YOBE = 8.171206225680933\n",
      "BAUCHI = 8.07899461400359\n",
      "EDO = 8.022239872915012\n",
      "ZAMFARA = 7.931034482758621\n",
      "FCT = 7.827542904981163\n",
      "KATSINA = 7.804878048780488\n",
      "BENUE = 7.772020725388601\n",
      "ADAMAWA = 7.768595041322314\n",
      "BAYELSA = 7.716049382716049\n",
      "KOGI = 7.564575645756458\n",
      "OGUN = 7.471763683753258\n",
      "NIGER = 7.117852975495915\n",
      "EBONYI = 7.0287539936102235\n",
      "JIGAWA = 6.870229007633588\n",
      "ABIA = 6.842105263157896\n",
      "KWARA = 6.7973856209150325\n"
     ]
    }
   ],
   "source": [
    "get_promotion_rate(\"State_Of_Origin\")"
   ]
  },
  {
   "cell_type": "markdown",
   "metadata": {},
   "source": [
    "* ## Foreign schooled"
   ]
  },
  {
   "cell_type": "markdown",
   "metadata": {},
   "source": [
    "### Population distribution"
   ]
  },
  {
   "cell_type": "code",
   "execution_count": 747,
   "metadata": {},
   "outputs": [
    {
     "data": {
      "image/png": "[encoded data removed]",
      "text/plain": [
       "<Figure size 432x288 with 1 Axes>"
      ]
     },
     "metadata": {},
     "output_type": "display_data"
    }
   ],
   "source": [
    "plt_employees(kind = \"pie\", x = \"Foreign_schooled\")"
   ]
  },
  {
   "cell_type": "markdown",
   "metadata": {},
   "source": [
    "### Promoted"
   ]
  },
  {
   "cell_type": "code",
   "execution_count": 748,
   "metadata": {},
   "outputs": [
    {
     "data": {
      "image/png": "[encoded data removed]",
      "text/plain": [
       "<Figure size 432x288 with 1 Axes>"
      ]
     },
     "metadata": {
      "needs_background": "light"
     },
     "output_type": "display_data"
    }
   ],
   "source": [
    "plt_employees_promoted(\"Foreign_schooled\")"
   ]
  },
  {
   "cell_type": "markdown",
   "metadata": {},
   "source": [
    "### Promotion rate"
   ]
  },
  {
   "cell_type": "code",
   "execution_count": 749,
   "metadata": {},
   "outputs": [
    {
     "name": "stdout",
     "output_type": "stream",
     "text": [
      "Yes = 8.48692670381483\n",
      "No = 8.170033162496232\n"
     ]
    }
   ],
   "source": [
    "get_promotion_rate(\"Foreign_schooled\")"
   ]
  },
  {
   "cell_type": "markdown",
   "metadata": {},
   "source": [
    "* ## Marital Status"
   ]
  },
  {
   "cell_type": "markdown",
   "metadata": {},
   "source": [
    "### Population distribution"
   ]
  },
  {
   "cell_type": "code",
   "execution_count": 750,
   "metadata": {},
   "outputs": [
    {
     "data": {
      "image/png": "[encoded data removed]",
      "text/plain": [
       "<Figure size 432x288 with 1 Axes>"
      ]
     },
     "metadata": {},
     "output_type": "display_data"
    }
   ],
   "source": [
    "plt_employees(kind = \"pie\", x = \"Marital_Status\")"
   ]
  },
  {
   "cell_type": "markdown",
   "metadata": {},
   "source": [
    "### Promoted"
   ]
  },
  {
   "cell_type": "code",
   "execution_count": 751,
   "metadata": {},
   "outputs": [
    {
     "data": {
      "image/png": "[encoded data removed]",
      "text/plain": [
       "<Figure size 432x288 with 1 Axes>"
      ]
     },
     "metadata": {
      "needs_background": "light"
     },
     "output_type": "display_data"
    }
   ],
   "source": [
    "plt_employees_promoted(\"Marital_Status\")"
   ]
  },
  {
   "cell_type": "markdown",
   "metadata": {},
   "source": [
    "### Promotion rate"
   ]
  },
  {
   "cell_type": "code",
   "execution_count": 752,
   "metadata": {},
   "outputs": [
    {
     "name": "stdout",
     "output_type": "stream",
     "text": [
      "Not_Sure = 10.743801652892563\n",
      "Married = 8.49719553864999\n",
      "Single = 8.170925364515663\n"
     ]
    }
   ],
   "source": [
    "get_promotion_rate(\"Marital_Status\")"
   ]
  },
  {
   "cell_type": "markdown",
   "metadata": {},
   "source": [
    "* ## Past Disciplinary Action"
   ]
  },
  {
   "cell_type": "markdown",
   "metadata": {},
   "source": [
    "### Population Distribution"
   ]
  },
  {
   "cell_type": "code",
   "execution_count": 753,
   "metadata": {},
   "outputs": [
    {
     "data": {
      "image/png": "[encoded data removed]",
      "text/plain": [
       "<Figure size 432x288 with 1 Axes>"
      ]
     },
     "metadata": {},
     "output_type": "display_data"
    }
   ],
   "source": [
    "plt_employees(kind = \"pie\", x = \"Past_Disciplinary_Action\")"
   ]
  },
  {
   "cell_type": "markdown",
   "metadata": {},
   "source": [
    "### Promoted"
   ]
  },
  {
   "cell_type": "code",
   "execution_count": 754,
   "metadata": {},
   "outputs": [
    {
     "data": {
      "image/png": "[encoded data removed]",
      "text/plain": [
       "<Figure size 432x288 with 1 Axes>"
      ]
     },
     "metadata": {
      "needs_background": "light"
     },
     "output_type": "display_data"
    }
   ],
   "source": [
    "plt_employees_promoted(\"Past_Disciplinary_Action\")"
   ]
  },
  {
   "cell_type": "code",
   "execution_count": 755,
   "metadata": {},
   "outputs": [
    {
     "data": {
      "text/plain": [
       "No     3225\n",
       "Yes      16\n",
       "Name: Past_Disciplinary_Action, dtype: int64"
      ]
     },
     "execution_count": 755,
     "metadata": {},
     "output_type": "execute_result"
    }
   ],
   "source": [
    "PROMOTED.Past_Disciplinary_Action.value_counts()"
   ]
  },
  {
   "cell_type": "markdown",
   "metadata": {},
   "source": [
    "### Promotion rate"
   ]
  },
  {
   "cell_type": "code",
   "execution_count": 756,
   "metadata": {},
   "outputs": [
    {
     "name": "stdout",
     "output_type": "stream",
     "text": [
      "Yes = 10.596026490066226\n",
      "No = 8.451036398417232\n"
     ]
    }
   ],
   "source": [
    "get_promotion_rate(\"Past_Disciplinary_Action\")"
   ]
  },
  {
   "cell_type": "code",
   "execution_count": 757,
   "metadata": {},
   "outputs": [
    {
     "data": {
      "text/html": [
       "<div>\n",
       "<style scoped>\n",
       "    .dataframe tbody tr th:only-of-type {\n",
       "        vertical-align: middle;\n",
       "    }\n",
       "\n",
       "    .dataframe tbody tr th {\n",
       "        vertical-align: top;\n",
       "    }\n",
       "\n",
       "    .dataframe thead th {\n",
       "        text-align: right;\n",
       "    }\n",
       "</style>\n",
       "<table border=\"1\" class=\"dataframe\">\n",
       "  <thead>\n",
       "    <tr style=\"text-align: right;\">\n",
       "      <th></th>\n",
       "      <th>EmployeeNo</th>\n",
       "      <th>Division</th>\n",
       "      <th>Qualification</th>\n",
       "      <th>Gender</th>\n",
       "      <th>Channel_of_Recruitment</th>\n",
       "      <th>Trainings_Attended</th>\n",
       "      <th>Year_of_birth</th>\n",
       "      <th>Last_performance_score</th>\n",
       "      <th>Year_of_recruitment</th>\n",
       "      <th>Targets_met</th>\n",
       "      <th>Previous_Award</th>\n",
       "      <th>Training_score_average</th>\n",
       "      <th>State_Of_Origin</th>\n",
       "      <th>Foreign_schooled</th>\n",
       "      <th>Marital_Status</th>\n",
       "      <th>Past_Disciplinary_Action</th>\n",
       "      <th>Previous_IntraDepartmental_Movement</th>\n",
       "      <th>No_of_previous_employers</th>\n",
       "      <th>Promoted_or_Not</th>\n",
       "    </tr>\n",
       "  </thead>\n",
       "  <tbody>\n",
       "    <tr>\n",
       "      <td>1296</td>\n",
       "      <td>YAK/S/01794</td>\n",
       "      <td>Commercial Sales and Marketing</td>\n",
       "      <td>First Degree or HND</td>\n",
       "      <td>Female</td>\n",
       "      <td>Agency and others</td>\n",
       "      <td>3</td>\n",
       "      <td>1984</td>\n",
       "      <td>10.0</td>\n",
       "      <td>2010</td>\n",
       "      <td>1</td>\n",
       "      <td>0</td>\n",
       "      <td>43</td>\n",
       "      <td>YOBE</td>\n",
       "      <td>Yes</td>\n",
       "      <td>Married</td>\n",
       "      <td>Yes</td>\n",
       "      <td>Yes</td>\n",
       "      <td>1</td>\n",
       "      <td>1</td>\n",
       "    </tr>\n",
       "    <tr>\n",
       "      <td>14220</td>\n",
       "      <td>YAK/S/20247</td>\n",
       "      <td>Commercial Sales and Marketing</td>\n",
       "      <td>MSc, MBA and PhD</td>\n",
       "      <td>Male</td>\n",
       "      <td>Direct Internal process</td>\n",
       "      <td>2</td>\n",
       "      <td>1979</td>\n",
       "      <td>12.5</td>\n",
       "      <td>2017</td>\n",
       "      <td>1</td>\n",
       "      <td>0</td>\n",
       "      <td>42</td>\n",
       "      <td>RIVERS</td>\n",
       "      <td>No</td>\n",
       "      <td>Married</td>\n",
       "      <td>Yes</td>\n",
       "      <td>No</td>\n",
       "      <td>0</td>\n",
       "      <td>1</td>\n",
       "    </tr>\n",
       "    <tr>\n",
       "      <td>28656</td>\n",
       "      <td>YAK/S/40923</td>\n",
       "      <td>Sourcing and Purchasing</td>\n",
       "      <td>First Degree or HND</td>\n",
       "      <td>Male</td>\n",
       "      <td>Direct Internal process</td>\n",
       "      <td>2</td>\n",
       "      <td>1991</td>\n",
       "      <td>12.5</td>\n",
       "      <td>2014</td>\n",
       "      <td>1</td>\n",
       "      <td>0</td>\n",
       "      <td>62</td>\n",
       "      <td>LAGOS</td>\n",
       "      <td>Yes</td>\n",
       "      <td>Married</td>\n",
       "      <td>Yes</td>\n",
       "      <td>No</td>\n",
       "      <td>1</td>\n",
       "      <td>1</td>\n",
       "    </tr>\n",
       "    <tr>\n",
       "      <td>25531</td>\n",
       "      <td>YAK/S/36435</td>\n",
       "      <td>Customer Support and Field Operations</td>\n",
       "      <td>First Degree or HND</td>\n",
       "      <td>Female</td>\n",
       "      <td>Direct Internal process</td>\n",
       "      <td>2</td>\n",
       "      <td>1988</td>\n",
       "      <td>10.0</td>\n",
       "      <td>2012</td>\n",
       "      <td>1</td>\n",
       "      <td>1</td>\n",
       "      <td>52</td>\n",
       "      <td>KADUNA</td>\n",
       "      <td>Yes</td>\n",
       "      <td>Married</td>\n",
       "      <td>Yes</td>\n",
       "      <td>No</td>\n",
       "      <td>1</td>\n",
       "      <td>1</td>\n",
       "    </tr>\n",
       "    <tr>\n",
       "      <td>11199</td>\n",
       "      <td>YAK/S/15892</td>\n",
       "      <td>Information Technology and Solution Support</td>\n",
       "      <td>First Degree or HND</td>\n",
       "      <td>Female</td>\n",
       "      <td>Direct Internal process</td>\n",
       "      <td>2</td>\n",
       "      <td>1992</td>\n",
       "      <td>7.5</td>\n",
       "      <td>2018</td>\n",
       "      <td>1</td>\n",
       "      <td>0</td>\n",
       "      <td>71</td>\n",
       "      <td>KADUNA</td>\n",
       "      <td>Yes</td>\n",
       "      <td>Married</td>\n",
       "      <td>Yes</td>\n",
       "      <td>No</td>\n",
       "      <td>0</td>\n",
       "      <td>1</td>\n",
       "    </tr>\n",
       "  </tbody>\n",
       "</table>\n",
       "</div>"
      ],
      "text/plain": [
       "        EmployeeNo                                     Division  \\\n",
       "1296   YAK/S/01794               Commercial Sales and Marketing   \n",
       "14220  YAK/S/20247               Commercial Sales and Marketing   \n",
       "28656  YAK/S/40923                      Sourcing and Purchasing   \n",
       "25531  YAK/S/36435        Customer Support and Field Operations   \n",
       "11199  YAK/S/15892  Information Technology and Solution Support   \n",
       "\n",
       "             Qualification  Gender   Channel_of_Recruitment  \\\n",
       "1296   First Degree or HND  Female        Agency and others   \n",
       "14220     MSc, MBA and PhD    Male  Direct Internal process   \n",
       "28656  First Degree or HND    Male  Direct Internal process   \n",
       "25531  First Degree or HND  Female  Direct Internal process   \n",
       "11199  First Degree or HND  Female  Direct Internal process   \n",
       "\n",
       "       Trainings_Attended  Year_of_birth  Last_performance_score  \\\n",
       "1296                    3           1984                    10.0   \n",
       "14220                   2           1979                    12.5   \n",
       "28656                   2           1991                    12.5   \n",
       "25531                   2           1988                    10.0   \n",
       "11199                   2           1992                     7.5   \n",
       "\n",
       "       Year_of_recruitment  Targets_met  Previous_Award  \\\n",
       "1296                  2010            1               0   \n",
       "14220                 2017            1               0   \n",
       "28656                 2014            1               0   \n",
       "25531                 2012            1               1   \n",
       "11199                 2018            1               0   \n",
       "\n",
       "       Training_score_average State_Of_Origin Foreign_schooled Marital_Status  \\\n",
       "1296                       43            YOBE              Yes        Married   \n",
       "14220                      42          RIVERS               No        Married   \n",
       "28656                      62           LAGOS              Yes        Married   \n",
       "25531                      52          KADUNA              Yes        Married   \n",
       "11199                      71          KADUNA              Yes        Married   \n",
       "\n",
       "      Past_Disciplinary_Action Previous_IntraDepartmental_Movement  \\\n",
       "1296                       Yes                                 Yes   \n",
       "14220                      Yes                                  No   \n",
       "28656                      Yes                                  No   \n",
       "25531                      Yes                                  No   \n",
       "11199                      Yes                                  No   \n",
       "\n",
       "      No_of_previous_employers  Promoted_or_Not  \n",
       "1296                         1                1  \n",
       "14220                        0                1  \n",
       "28656                        1                1  \n",
       "25531                        1                1  \n",
       "11199                        0                1  "
      ]
     },
     "execution_count": 757,
     "metadata": {},
     "output_type": "execute_result"
    }
   ],
   "source": [
    "PROMOTED[PROMOTED.Past_Disciplinary_Action == \"Yes\"].sample(5)"
   ]
  },
  {
   "cell_type": "markdown",
   "metadata": {},
   "source": [
    "* ## Previous IntraDepartmental Movement"
   ]
  },
  {
   "cell_type": "markdown",
   "metadata": {},
   "source": [
    "### Population Distribution"
   ]
  },
  {
   "cell_type": "code",
   "execution_count": 758,
   "metadata": {},
   "outputs": [
    {
     "data": {
      "image/png": "[encoded data removed]",
      "text/plain": [
       "<Figure size 432x288 with 1 Axes>"
      ]
     },
     "metadata": {},
     "output_type": "display_data"
    }
   ],
   "source": [
    "plt_employees(kind = \"pie\", x = \"Previous_IntraDepartmental_Movement\")"
   ]
  },
  {
   "cell_type": "markdown",
   "metadata": {},
   "source": [
    "### Promoted"
   ]
  },
  {
   "cell_type": "code",
   "execution_count": 759,
   "metadata": {},
   "outputs": [
    {
     "data": {
      "image/png": "[encoded data removed]",
      "text/plain": [
       "<Figure size 432x288 with 1 Axes>"
      ]
     },
     "metadata": {
      "needs_background": "light"
     },
     "output_type": "display_data"
    }
   ],
   "source": [
    "plt_employees_promoted(\"Previous_IntraDepartmental_Movement\")"
   ]
  },
  {
   "cell_type": "markdown",
   "metadata": {},
   "source": [
    "### Promotion rate"
   ]
  },
  {
   "cell_type": "code",
   "execution_count": 760,
   "metadata": {},
   "outputs": [
    {
     "name": "stdout",
     "output_type": "stream",
     "text": [
      "No = 8.533809674724136\n",
      "Yes = 7.743547044129892\n"
     ]
    }
   ],
   "source": [
    "get_promotion_rate(\"Previous_IntraDepartmental_Movement\")"
   ]
  },
  {
   "cell_type": "markdown",
   "metadata": {},
   "source": [
    "* ## No of previous employers"
   ]
  },
  {
   "cell_type": "markdown",
   "metadata": {},
   "source": [
    "### Population Distribution"
   ]
  },
  {
   "cell_type": "code",
   "execution_count": 761,
   "metadata": {},
   "outputs": [
    {
     "data": {
      "image/png": "[encoded data removed]",
      "text/plain": [
       "<Figure size 432x288 with 1 Axes>"
      ]
     },
     "metadata": {
      "needs_background": "light"
     },
     "output_type": "display_data"
    }
   ],
   "source": [
    "plt_employees(kind = \"count\", x = \"No_of_previous_employers\")"
   ]
  },
  {
   "cell_type": "markdown",
   "metadata": {},
   "source": [
    "### Promoted"
   ]
  },
  {
   "cell_type": "code",
   "execution_count": 762,
   "metadata": {},
   "outputs": [
    {
     "data": {
      "image/png": "[encoded data removed]",
      "text/plain": [
       "<Figure size 432x288 with 1 Axes>"
      ]
     },
     "metadata": {
      "needs_background": "light"
     },
     "output_type": "display_data"
    }
   ],
   "source": [
    "plt_employees_promoted(x = \"No_of_previous_employers\")"
   ]
  },
  {
   "cell_type": "markdown",
   "metadata": {},
   "source": [
    "### Promotion rate"
   ]
  },
  {
   "cell_type": "code",
   "execution_count": 763,
   "metadata": {},
   "outputs": [
    {
     "name": "stdout",
     "output_type": "stream",
     "text": [
      "More than 5 = 7.73067331670823\n",
      "5 = 7.529162248144221\n",
      "4 = 9.138972809667674\n",
      "3 = 8.506616257088846\n",
      "2 = 9.176225234619395\n",
      "1 = 8.55461917633964\n",
      "0 = 8.235382760699217\n"
     ]
    }
   ],
   "source": [
    "get_promotion_rate(\"No_of_previous_employers\", sort=\"key\")"
   ]
  },
  {
   "cell_type": "markdown",
   "metadata": {},
   "source": [
    "# VISUALIZE AGE POP DISTRIBUTION, PROMOTION,PROMOTION RATE  \n",
    "# V... YEARS_SPENT_IN_COMPANY\n",
    "# V... YEARS SPENT IN DIVISION\n",
    "# VISUALIZE SOME FEATURES IN RELATION TO DIVISION"
   ]
  },
  {
   "cell_type": "markdown",
   "metadata": {},
   "source": [
    "3. # Data pre-processing  \n",
    "split X from y, handle missing data, encode cat to int - depending on algo/model to be used, No_of_previous_employers as object and has int, categorize (type) some objects like Gender, feature scaling - visualize distribution (kde) before and after scaling, feature engineering - (age, years spent in coy/division), feature selection - MANUAL, AND AUTOMATIC?., down sample  \n",
    "\n",
    "for state feature - see memory of object vs category type  \n",
    "use as basis of \"region\" feature extraction   \n",
    "\n",
    "Split x data to scaled and unscaled (for RF)  \n",
    "For RF model - take note of encoding of cat. features with high cardinality, and aggregate ohe effect of individual features"
   ]
  },
  {
   "cell_type": "markdown",
   "metadata": {},
   "source": [
    "### Split data into dependent variable (y) and independent variables (X)"
   ]
  },
  {
   "cell_type": "code",
   "execution_count": 764,
   "metadata": {},
   "outputs": [],
   "source": [
    "# should have named \"train\" as \"dataset\"\n",
    "# X = train.iloc[:,:-1]\n",
    "df_X = dataset.drop(\"Promoted_or_Not\", axis = 1)\n",
    "# y = train.loc[:,[\"Promoted_or_Not\"]]\n",
    "# A series would be returned rather than a pandas DataFrame. Better because some models need a 1D y array\n",
    "df_y = dataset.loc[:,\"Promoted_or_Not\"]"
   ]
  },
  {
   "cell_type": "code",
   "execution_count": 765,
   "metadata": {},
   "outputs": [
    {
     "data": {
      "text/html": [
       "<div>\n",
       "<style scoped>\n",
       "    .dataframe tbody tr th:only-of-type {\n",
       "        vertical-align: middle;\n",
       "    }\n",
       "\n",
       "    .dataframe tbody tr th {\n",
       "        vertical-align: top;\n",
       "    }\n",
       "\n",
       "    .dataframe thead th {\n",
       "        text-align: right;\n",
       "    }\n",
       "</style>\n",
       "<table border=\"1\" class=\"dataframe\">\n",
       "  <thead>\n",
       "    <tr style=\"text-align: right;\">\n",
       "      <th></th>\n",
       "      <th>Promoted_or_Not</th>\n",
       "    </tr>\n",
       "  </thead>\n",
       "  <tbody>\n",
       "    <tr>\n",
       "      <td>30</td>\n",
       "      <td>0</td>\n",
       "    </tr>\n",
       "    <tr>\n",
       "      <td>31</td>\n",
       "      <td>0</td>\n",
       "    </tr>\n",
       "    <tr>\n",
       "      <td>32</td>\n",
       "      <td>0</td>\n",
       "    </tr>\n",
       "    <tr>\n",
       "      <td>33</td>\n",
       "      <td>0</td>\n",
       "    </tr>\n",
       "    <tr>\n",
       "      <td>34</td>\n",
       "      <td>0</td>\n",
       "    </tr>\n",
       "    <tr>\n",
       "      <td>35</td>\n",
       "      <td>0</td>\n",
       "    </tr>\n",
       "    <tr>\n",
       "      <td>36</td>\n",
       "      <td>0</td>\n",
       "    </tr>\n",
       "    <tr>\n",
       "      <td>37</td>\n",
       "      <td>0</td>\n",
       "    </tr>\n",
       "    <tr>\n",
       "      <td>38</td>\n",
       "      <td>1</td>\n",
       "    </tr>\n",
       "    <tr>\n",
       "      <td>39</td>\n",
       "      <td>0</td>\n",
       "    </tr>\n",
       "    <tr>\n",
       "      <td>40</td>\n",
       "      <td>0</td>\n",
       "    </tr>\n",
       "    <tr>\n",
       "      <td>41</td>\n",
       "      <td>0</td>\n",
       "    </tr>\n",
       "    <tr>\n",
       "      <td>42</td>\n",
       "      <td>0</td>\n",
       "    </tr>\n",
       "    <tr>\n",
       "      <td>43</td>\n",
       "      <td>1</td>\n",
       "    </tr>\n",
       "    <tr>\n",
       "      <td>44</td>\n",
       "      <td>1</td>\n",
       "    </tr>\n",
       "  </tbody>\n",
       "</table>\n",
       "</div>"
      ],
      "text/plain": [
       "    Promoted_or_Not\n",
       "30                0\n",
       "31                0\n",
       "32                0\n",
       "33                0\n",
       "34                0\n",
       "35                0\n",
       "36                0\n",
       "37                0\n",
       "38                1\n",
       "39                0\n",
       "40                0\n",
       "41                0\n",
       "42                0\n",
       "43                1\n",
       "44                1"
      ]
     },
     "execution_count": 765,
     "metadata": {},
     "output_type": "execute_result"
    }
   ],
   "source": [
    "pd.DataFrame(df_y.iloc[30:45])"
   ]
  },
  {
   "cell_type": "markdown",
   "metadata": {},
   "source": [
    "### Data balance"
   ]
  },
  {
   "cell_type": "code",
   "execution_count": 766,
   "metadata": {},
   "outputs": [
    {
     "data": {
      "text/plain": [
       "((38312,), (3241, 19))"
      ]
     },
     "execution_count": 766,
     "metadata": {},
     "output_type": "execute_result"
    }
   ],
   "source": [
    "df_y.shape, PROMOTED.shape"
   ]
  },
  {
   "cell_type": "markdown",
   "metadata": {},
   "source": [
    "> Accuracy evaluation metric is bad for this ML problem because the negative class labels is far more than the positive labels (imbalanced data), therefore there may be a high accuracy value because most negative labels were predicted correctly or worst-case? - all labels were predicted to be negative\n",
    "\n",
    "> The class labels/target(dependent variable values) is imbalanced - adjust decision boundary (probability cut-off/threshold) for models that produce probailities/probability estimates or perform negative (majority class - 0) downsampling (for strict classifiers that do not output probability estimates or even non-strict classifiers that output). The 2 options are orthogonal (link below).\n",
    "Link on discussion - https://stats.stackexchange.com/questions/122409/why-downsample\n",
    "\n",
    "> Downsample after feature engineering etc\n",
    "\n",
    "> Other ways to deal with imbalanced data - undersampling (to balance minority and major classes), upsampling \n",
    "> Link - https://medium.com/bluekiri/dealing-with-highly-imbalanced-classes-7e36330250bc\n",
    "\n",
    "> \"If you have an imbalanced data set, first try training on the true distribution. If the model works well and generalizes, you're done! If not, try the following downsampling and upweighting technique\" - https://developers.google.com/machine-learning/data-prep/construct/sampling-splitting/imbalanced-data"
   ]
  },
  {
   "cell_type": "markdown",
   "metadata": {},
   "source": [
    "### Handling missing Qualification data"
   ]
  },
  {
   "cell_type": "code",
   "execution_count": 767,
   "metadata": {},
   "outputs": [],
   "source": [
    "df_X[\"Qualification\"].fillna(\"Not Available\", inplace = True)\n",
    "test[\"Qualification\"].fillna(\"Not Available\", inplace = True)"
   ]
  },
  {
   "cell_type": "code",
   "execution_count": 768,
   "metadata": {},
   "outputs": [
    {
     "data": {
      "text/plain": [
       "EmployeeNo                                0\n",
       "Division                                  0\n",
       "Qualification                          1679\n",
       "Gender                                    0\n",
       "Channel_of_Recruitment                    0\n",
       "Trainings_Attended                        0\n",
       "Year_of_birth                             0\n",
       "Last_performance_score                    0\n",
       "Year_of_recruitment                       0\n",
       "Targets_met                               0\n",
       "Previous_Award                            0\n",
       "Training_score_average                    0\n",
       "State_Of_Origin                           0\n",
       "Foreign_schooled                          0\n",
       "Marital_Status                            0\n",
       "Past_Disciplinary_Action                  0\n",
       "Previous_IntraDepartmental_Movement       0\n",
       "No_of_previous_employers                  0\n",
       "Promoted_or_Not                           0\n",
       "dtype: int64"
      ]
     },
     "execution_count": 768,
     "metadata": {},
     "output_type": "execute_result"
    }
   ],
   "source": [
    "dataset.isnull().sum()"
   ]
  },
  {
   "cell_type": "code",
   "execution_count": 769,
   "metadata": {},
   "outputs": [
    {
     "data": {
      "text/plain": [
       "First Degree or HND         25578\n",
       "MSc, MBA and PhD            10469\n",
       "Not Available                1679\n",
       "Non-University Education      586\n",
       "Name: Qualification, dtype: int64"
      ]
     },
     "execution_count": 769,
     "metadata": {},
     "output_type": "execute_result"
    }
   ],
   "source": [
    "df_X.Qualification.value_counts()"
   ]
  },
  {
   "cell_type": "markdown",
   "metadata": {},
   "source": [
    "### Feature engineering"
   ]
  },
  {
   "cell_type": "markdown",
   "metadata": {},
   "source": [
    "> Should I have done this feature engineering before the visualization analysis above so they'll have been included?"
   ]
  },
  {
   "cell_type": "markdown",
   "metadata": {},
   "source": [
    "* #### Age"
   ]
  },
  {
   "cell_type": "code",
   "execution_count": 770,
   "metadata": {},
   "outputs": [],
   "source": [
    "df_X[\"Age\"] = df_X.apply(lambda row: 2019 - row.Year_of_birth, axis = 1)\n",
    "test[\"Age\"] = test.apply(lambda row: 2019 - row.Year_of_birth, axis = 1)"
   ]
  },
  {
   "cell_type": "markdown",
   "metadata": {},
   "source": [
    "* #### Years in Company"
   ]
  },
  {
   "cell_type": "code",
   "execution_count": 771,
   "metadata": {},
   "outputs": [],
   "source": [
    "df_X[\"Years_in_Company\"] = df_X.apply(lambda row: 2019 - row.Year_of_recruitment, axis = 1)\n",
    "test[\"Years_in_Company\"] = test.apply(lambda row: 2019 - row.Year_of_recruitment, axis = 1)"
   ]
  },
  {
   "cell_type": "markdown",
   "metadata": {},
   "source": [
    "* #### Geopolitical Zone - in order to reduce cardinality of State of origin"
   ]
  },
  {
   "cell_type": "code",
   "execution_count": 772,
   "metadata": {},
   "outputs": [],
   "source": [
    "df_X[\"Zone\"] = df_X.apply(lambda row: get_zone(row.State_Of_Origin), axis = 1)\n",
    "test[\"Zone\"] = test.apply(lambda row: get_zone(row.State_Of_Origin), axis = 1)"
   ]
  },
  {
   "cell_type": "markdown",
   "metadata": {},
   "source": [
    "> Should I engineer Age by grouping into Age range - 20s, 30s, 50s etc?"
   ]
  },
  {
   "cell_type": "markdown",
   "metadata": {},
   "source": [
    "### Feature encoding"
   ]
  },
  {
   "cell_type": "code",
   "execution_count": 773,
   "metadata": {},
   "outputs": [
    {
     "data": {
      "text/plain": [
       "EmployeeNo                              object\n",
       "Division                                object\n",
       "Qualification                           object\n",
       "Gender                                  object\n",
       "Channel_of_Recruitment                  object\n",
       "Trainings_Attended                       int64\n",
       "Year_of_birth                            int64\n",
       "Last_performance_score                 float64\n",
       "Year_of_recruitment                      int64\n",
       "Targets_met                              int64\n",
       "Previous_Award                           int64\n",
       "Training_score_average                   int64\n",
       "State_Of_Origin                         object\n",
       "Foreign_schooled                        object\n",
       "Marital_Status                          object\n",
       "Past_Disciplinary_Action                object\n",
       "Previous_IntraDepartmental_Movement     object\n",
       "No_of_previous_employers                object\n",
       "Age                                      int64\n",
       "Years_in_Company                         int64\n",
       "Zone                                    object\n",
       "dtype: object"
      ]
     },
     "execution_count": 773,
     "metadata": {},
     "output_type": "execute_result"
    }
   ],
   "source": [
    "df_X.dtypes"
   ]
  },
  {
   "cell_type": "markdown",
   "metadata": {},
   "source": [
    "### BinaryEncoding  \n",
    "Division, Zone"
   ]
  },
  {
   "cell_type": "code",
   "execution_count": 774,
   "metadata": {},
   "outputs": [],
   "source": [
    "# ce_binary = ce.BinaryEncoder(cols = [\"Division\", \"Zone\"])\n",
    "# df_X = ce_binary.fit_transform(df_X, df_y)\n",
    "# test = ce_binary.transform(test)"
   ]
  },
  {
   "cell_type": "code",
   "execution_count": 775,
   "metadata": {},
   "outputs": [],
   "source": [
    "# ce_ordinal2 = ce.OrdinalEncoder(cols = [\"Division\", \"Zone\"])\n",
    "# df_X = ce_ordinal2.fit_transform(df_X, df_y)\n",
    "# test = ce_ordinal2.transform(test)"
   ]
  },
  {
   "cell_type": "code",
   "execution_count": 776,
   "metadata": {},
   "outputs": [],
   "source": [
    "ce_ohe2 = ce.OneHotEncoder(cols = [\"Division\", \"Zone\"])\n",
    "df_X = ce_ohe2.fit_transform(df_X, df_y)\n",
    "test = ce_ohe2.transform(test)"
   ]
  },
  {
   "cell_type": "markdown",
   "metadata": {},
   "source": [
    "### OrdinalEncoder  \n",
    "Qualification, No of previous employers"
   ]
  },
  {
   "cell_type": "code",
   "execution_count": 777,
   "metadata": {},
   "outputs": [],
   "source": [
    "mappings = [{\"col\":\"Qualification\", \"mapping\":{\"Non-University Education\":1, \"First Degree or HND\":2, \"MSc, MBA and PhD\":3, \"Not Available\":-2}},\n",
    "           {\"col\":\"No_of_previous_employers\", \"mapping\":{\"0\":0, \"1\":1, \"2\":2, \"3\":3, \"4\":4, \"5\":5, \"More than 5\":6}}\n",
    "          ]\n",
    "ce_ordinal = ce.OrdinalEncoder(cols = [\"Qualification\", \"No_of_previous_employers\"], mapping = mappings )\n",
    "df_X = ce_ordinal.fit_transform(df_X, df_y)\n",
    "test = ce_ordinal.transform(test)"
   ]
  },
  {
   "cell_type": "code",
   "execution_count": 778,
   "metadata": {},
   "outputs": [
    {
     "data": {
      "text/plain": [
       "[{'col': 'Qualification',\n",
       "  'mapping': {'Non-University Education': 1,\n",
       "   'First Degree or HND': 2,\n",
       "   'MSc, MBA and PhD': 3,\n",
       "   'Not Available': -2}},\n",
       " {'col': 'No_of_previous_employers',\n",
       "  'mapping': {'0': 0,\n",
       "   '1': 1,\n",
       "   '2': 2,\n",
       "   '3': 3,\n",
       "   '4': 4,\n",
       "   '5': 5,\n",
       "   'More than 5': 6}}]"
      ]
     },
     "execution_count": 778,
     "metadata": {},
     "output_type": "execute_result"
    }
   ],
   "source": [
    "ce_ordinal.category_mapping"
   ]
  },
  {
   "cell_type": "markdown",
   "metadata": {},
   "source": [
    "### OneHotEncoding  \n",
    "Gender, Channel of Recruitment, Foreign schooled, Marital Status, Past Disciplinary Action, and Previous IntraDepartmental Movement"
   ]
  },
  {
   "cell_type": "code",
   "execution_count": 779,
   "metadata": {},
   "outputs": [],
   "source": [
    "ce_ohe = ce.OneHotEncoder(cols = [\"Gender\", \"Channel_of_Recruitment\", \"Foreign_schooled\", \"Marital_Status\", \"Past_Disciplinary_Action\", \"Previous_IntraDepartmental_Movement\", \"Targets_met\", \"Previous_Award\"])\n",
    "df_X = ce_ohe.fit_transform(df_X, df_y)\n",
    "test = ce_ohe.transform(test)"
   ]
  },
  {
   "cell_type": "code",
   "execution_count": 780,
   "metadata": {},
   "outputs": [],
   "source": [
    "# ce_ordinal3 = ce.OrdinalEncoder(cols = [\"Gender\", \"Channel_of_Recruitment\", \"Foreign_schooled\", \"Marital_Status\", \"Past_Disciplinary_Action\", \"Previous_IntraDepartmental_Movement\"])\n",
    "# df_X = ce_ordinal3.fit_transform(df_X, df_y)\n",
    "# test = ce_ordinal3.transform(test)"
   ]
  },
  {
   "cell_type": "code",
   "execution_count": 781,
   "metadata": {},
   "outputs": [
    {
     "data": {
      "text/plain": [
       "EmployeeNo                                object\n",
       "Division_1                                 int64\n",
       "Division_2                                 int64\n",
       "Division_3                                 int64\n",
       "Division_4                                 int64\n",
       "Division_5                                 int64\n",
       "Division_6                                 int64\n",
       "Division_7                                 int64\n",
       "Division_8                                 int64\n",
       "Division_9                                 int64\n",
       "Qualification                              int64\n",
       "Gender_1                                   int64\n",
       "Gender_2                                   int64\n",
       "Channel_of_Recruitment_1                   int64\n",
       "Channel_of_Recruitment_2                   int64\n",
       "Channel_of_Recruitment_3                   int64\n",
       "Trainings_Attended                         int64\n",
       "Year_of_birth                              int64\n",
       "Last_performance_score                   float64\n",
       "Year_of_recruitment                        int64\n",
       "Targets_met_1                              int64\n",
       "Targets_met_2                              int64\n",
       "Previous_Award_1                           int64\n",
       "Previous_Award_2                           int64\n",
       "Training_score_average                     int64\n",
       "State_Of_Origin                           object\n",
       "Foreign_schooled_1                         int64\n",
       "Foreign_schooled_2                         int64\n",
       "Marital_Status_1                           int64\n",
       "Marital_Status_2                           int64\n",
       "Marital_Status_3                           int64\n",
       "Past_Disciplinary_Action_1                 int64\n",
       "Past_Disciplinary_Action_2                 int64\n",
       "Previous_IntraDepartmental_Movement_1      int64\n",
       "Previous_IntraDepartmental_Movement_2      int64\n",
       "No_of_previous_employers                   int64\n",
       "Age                                        int64\n",
       "Years_in_Company                           int64\n",
       "Zone_1                                     int64\n",
       "Zone_2                                     int64\n",
       "Zone_3                                     int64\n",
       "Zone_4                                     int64\n",
       "Zone_5                                     int64\n",
       "Zone_6                                     int64\n",
       "dtype: object"
      ]
     },
     "execution_count": 781,
     "metadata": {},
     "output_type": "execute_result"
    }
   ],
   "source": [
    "test.dtypes"
   ]
  },
  {
   "cell_type": "code",
   "execution_count": 782,
   "metadata": {},
   "outputs": [
    {
     "data": {
      "text/plain": [
       "(16496, 44)"
      ]
     },
     "execution_count": 782,
     "metadata": {},
     "output_type": "execute_result"
    }
   ],
   "source": [
    "test.shape"
   ]
  },
  {
   "cell_type": "code",
   "execution_count": null,
   "metadata": {},
   "outputs": [],
   "source": []
  },
  {
   "cell_type": "code",
   "execution_count": 783,
   "metadata": {},
   "outputs": [],
   "source": [
    "pd.set_option('display.max_columns', None)"
   ]
  },
  {
   "cell_type": "markdown",
   "metadata": {},
   "source": [
    "### Categorize \"Targets met\" and \"Previous Award\""
   ]
  },
  {
   "cell_type": "code",
   "execution_count": 784,
   "metadata": {},
   "outputs": [],
   "source": [
    "# df_X.Targets_met = df_X.Targets_met.astype(\"category\")\n",
    "# df_X.Previous_Award = df_X.Previous_Award.astype(\"category\")\n",
    "# test.Targets_met = test.Targets_met.astype(\"category\")\n",
    "# test.Previous_Award = test.Previous_Award.astype(\"category\")\n",
    "# df_X.Targets_met = df_X.Targets_met.astype(\"category\")\n",
    "# df_X.Previous_Award = df_X.Previous_Award.astype(\"category\")\n",
    "# test.Targets_met = test.Targets_met.astype(\"category\")\n",
    "# test.Previous_Award = test.Previous_Award.astype(\"category\")"
   ]
  },
  {
   "cell_type": "markdown",
   "metadata": {},
   "source": [
    "categorize ordinal encoded? or just manual encode then categorize"
   ]
  },
  {
   "cell_type": "markdown",
   "metadata": {},
   "source": [
    "> The values of the categories and already (encoded) in numerics"
   ]
  },
  {
   "cell_type": "code",
   "execution_count": 785,
   "metadata": {},
   "outputs": [
    {
     "data": {
      "text/plain": [
       "((38312, 44), (16496, 44))"
      ]
     },
     "execution_count": 785,
     "metadata": {},
     "output_type": "execute_result"
    }
   ],
   "source": [
    "df_X.shape, test.shape"
   ]
  },
  {
   "cell_type": "markdown",
   "metadata": {},
   "source": [
    "### Manual Feature selection - Drop features"
   ]
  },
  {
   "cell_type": "code",
   "execution_count": 786,
   "metadata": {},
   "outputs": [],
   "source": [
    "df_X = df_X.drop(columns = [\"EmployeeNo\", \"Year_of_birth\", \"Year_of_recruitment\", \"State_Of_Origin\"], axis = 1)\n",
    "test = test.drop(columns = [\"EmployeeNo\", \"Year_of_birth\", \"Year_of_recruitment\", \"State_Of_Origin\"], axis = 1)"
   ]
  },
  {
   "cell_type": "markdown",
   "metadata": {},
   "source": [
    "### Feature Scaling"
   ]
  },
  {
   "cell_type": "code",
   "execution_count": 787,
   "metadata": {},
   "outputs": [],
   "source": [
    "# scaler = StandardScaler()\n",
    "# df_X_scaled = scaler.fit_transform(df_X)\n",
    "# test_scaled = scaler.transform(test)"
   ]
  },
  {
   "cell_type": "code",
   "execution_count": null,
   "metadata": {},
   "outputs": [],
   "source": []
  },
  {
   "cell_type": "markdown",
   "metadata": {},
   "source": [
    "### Split data into training set and validation(my test) set"
   ]
  },
  {
   "cell_type": "code",
   "execution_count": 788,
   "metadata": {},
   "outputs": [],
   "source": [
    "train_X, valid_X, train_y, valid_y = train_test_split(df_X, df_y, test_size = .2, random_state = 42,  stratify = df_y)\n",
    "# train_X_scaled, valid_X_scaled, train_y_scaled, _ = train_test_split(df_X_scaled, df_y, test_size = .4, random_state = 42,  stratify = df_y)"
   ]
  },
  {
   "cell_type": "code",
   "execution_count": 789,
   "metadata": {},
   "outputs": [],
   "source": [
    "# np.unique(train_y_scaled, return_counts=True)"
   ]
  },
  {
   "cell_type": "markdown",
   "metadata": {},
   "source": [
    "> The above split is stratified (using the stratify parameter) so as to balance the proportion of individual classes in both the training and validation set, as shown below."
   ]
  },
  {
   "cell_type": "code",
   "execution_count": 790,
   "metadata": {},
   "outputs": [],
   "source": [
    "# print(y.Promoted_or_Not.value_counts(), train_y.Promoted_or_Not.value_counts(), valid_y.Promoted_or_Not.value_counts(), sep = \"\\n\")"
   ]
  },
  {
   "cell_type": "markdown",
   "metadata": {},
   "source": [
    "#### Negative Downsampling"
   ]
  },
  {
   "cell_type": "code",
   "execution_count": 791,
   "metadata": {},
   "outputs": [],
   "source": [
    "train_all = pd.concat([train_X, train_y], axis = 1)\n",
    "valid_all = pd.concat([valid_X, valid_y], axis = 1)\n",
    "full_df = pd.concat([train_all, valid_all], axis = 0)\n",
    "# full_df = concat(df_X. df_y)?"
   ]
  },
  {
   "cell_type": "code",
   "execution_count": 792,
   "metadata": {},
   "outputs": [
    {
     "data": {
      "text/plain": [
       "(38312, 41)"
      ]
     },
     "execution_count": 792,
     "metadata": {},
     "output_type": "execute_result"
    }
   ],
   "source": [
    "full_df.shape"
   ]
  },
  {
   "cell_type": "code",
   "execution_count": 793,
   "metadata": {},
   "outputs": [],
   "source": [
    "train_pos = full_df[full_df[\"Promoted_or_Not\"]==1]\n",
    "train_neg = full_df[full_df[\"Promoted_or_Not\"]==0]\n",
    "\n",
    "train_neg = train_neg.sample(int(full_df.shape[0] * 0.08), random_state=42)\n",
    "train_ds = pd.concat([train_pos,train_neg])"
   ]
  },
  {
   "cell_type": "code",
   "execution_count": 794,
   "metadata": {},
   "outputs": [],
   "source": [
    "X_ds = train_ds.drop(\"Promoted_or_Not\", axis = 1)\n",
    "y_ds = train_ds.loc[:,\"Promoted_or_Not\"]"
   ]
  },
  {
   "cell_type": "code",
   "execution_count": 795,
   "metadata": {},
   "outputs": [
    {
     "data": {
      "text/plain": [
       "(array([0, 1]), array([3064, 3241]))"
      ]
     },
     "execution_count": 795,
     "metadata": {},
     "output_type": "execute_result"
    }
   ],
   "source": [
    "np.unique(y_ds, return_counts=True)"
   ]
  },
  {
   "cell_type": "markdown",
   "metadata": {},
   "source": [
    "### Manual Oversampling"
   ]
  },
  {
   "cell_type": "code",
   "execution_count": 796,
   "metadata": {},
   "outputs": [],
   "source": [
    "# train_p = pd.concat([train_pos, train_pos])\n",
    "# train_n = full_df[full_df[\"Promoted_or_Not\"]==0]\n",
    "# train_os = pd.concat([train_p, train_n])"
   ]
  },
  {
   "cell_type": "code",
   "execution_count": 797,
   "metadata": {},
   "outputs": [],
   "source": [
    "# train_n.shape"
   ]
  },
  {
   "cell_type": "code",
   "execution_count": 798,
   "metadata": {},
   "outputs": [],
   "source": [
    "# train_ds.shape"
   ]
  },
  {
   "cell_type": "code",
   "execution_count": 799,
   "metadata": {},
   "outputs": [],
   "source": [
    "# train_os.shape"
   ]
  },
  {
   "cell_type": "code",
   "execution_count": 800,
   "metadata": {},
   "outputs": [],
   "source": [
    "# X_os = train_os.drop(\"Promoted_or_Not\", axis = 1)\n",
    "# y_os = train_os.loc[:,\"Promoted_or_Not\"]"
   ]
  },
  {
   "cell_type": "code",
   "execution_count": 801,
   "metadata": {},
   "outputs": [],
   "source": [
    "train_ds_X, valid_ds_X, train_ds_y, valid_ds_y = train_test_split(X_ds, y_ds, test_size = .20, random_state = 42,  stratify = y_ds)"
   ]
  },
  {
   "cell_type": "code",
   "execution_count": 802,
   "metadata": {},
   "outputs": [],
   "source": [
    "train_os_X, valid_os_X, train_os_y, valid_os_y = train_test_split(X_os, y_os, test_size = .40, random_state = 42,  stratify = y_os)"
   ]
  },
  {
   "cell_type": "markdown",
   "metadata": {},
   "source": [
    "### Synthetic Minority Over-sampling Technique. (SMOTE)"
   ]
  },
  {
   "cell_type": "code",
   "execution_count": 803,
   "metadata": {},
   "outputs": [],
   "source": [
    "smt = SMOTE()\n",
    "X_s, y_s = smt.fit_sample(df_X, df_y)"
   ]
  },
  {
   "cell_type": "code",
   "execution_count": 804,
   "metadata": {},
   "outputs": [],
   "source": [
    "X_s = pd.DataFrame(X_s)"
   ]
  },
  {
   "cell_type": "code",
   "execution_count": 805,
   "metadata": {},
   "outputs": [],
   "source": [
    "X_s.columns = df_X.columns"
   ]
  },
  {
   "cell_type": "code",
   "execution_count": 806,
   "metadata": {},
   "outputs": [
    {
     "data": {
      "text/plain": [
       "Division_1                               float64\n",
       "Division_2                               float64\n",
       "Division_3                               float64\n",
       "Division_4                               float64\n",
       "Division_5                               float64\n",
       "Division_6                               float64\n",
       "Division_7                               float64\n",
       "Division_8                               float64\n",
       "Division_9                               float64\n",
       "Qualification                            float64\n",
       "Gender_1                                 float64\n",
       "Gender_2                                 float64\n",
       "Channel_of_Recruitment_1                 float64\n",
       "Channel_of_Recruitment_2                 float64\n",
       "Channel_of_Recruitment_3                 float64\n",
       "Trainings_Attended                       float64\n",
       "Last_performance_score                   float64\n",
       "Targets_met_1                            float64\n",
       "Targets_met_2                            float64\n",
       "Previous_Award_1                         float64\n",
       "Previous_Award_2                         float64\n",
       "Training_score_average                   float64\n",
       "Foreign_schooled_1                       float64\n",
       "Foreign_schooled_2                       float64\n",
       "Marital_Status_1                         float64\n",
       "Marital_Status_2                         float64\n",
       "Marital_Status_3                         float64\n",
       "Past_Disciplinary_Action_1               float64\n",
       "Past_Disciplinary_Action_2               float64\n",
       "Previous_IntraDepartmental_Movement_1    float64\n",
       "Previous_IntraDepartmental_Movement_2    float64\n",
       "No_of_previous_employers                 float64\n",
       "Age                                      float64\n",
       "Years_in_Company                         float64\n",
       "Zone_1                                   float64\n",
       "Zone_2                                   float64\n",
       "Zone_3                                   float64\n",
       "Zone_4                                   float64\n",
       "Zone_5                                   float64\n",
       "Zone_6                                   float64\n",
       "dtype: object"
      ]
     },
     "execution_count": 806,
     "metadata": {},
     "output_type": "execute_result"
    }
   ],
   "source": [
    "X_s.dtypes"
   ]
  },
  {
   "cell_type": "code",
   "execution_count": 807,
   "metadata": {},
   "outputs": [],
   "source": [
    "train_s_X, valid_s_X, train_s_y, valid_s_y = train_test_split(X_s, y_s, test_size = .40, random_state = 42,  stratify = y_s)"
   ]
  },
  {
   "cell_type": "markdown",
   "metadata": {},
   "source": [
    "# Training"
   ]
  },
  {
   "cell_type": "code",
   "execution_count": 808,
   "metadata": {},
   "outputs": [
    {
     "data": {
      "text/plain": [
       "1    2593\n",
       "0    2451\n",
       "Name: Promoted_or_Not, dtype: int64"
      ]
     },
     "execution_count": 808,
     "metadata": {},
     "output_type": "execute_result"
    }
   ],
   "source": [
    "train_ds_y.value_counts()"
   ]
  },
  {
   "cell_type": "code",
   "execution_count": 809,
   "metadata": {},
   "outputs": [
    {
     "data": {
      "text/plain": [
       "(42085, 40)"
      ]
     },
     "execution_count": 809,
     "metadata": {},
     "output_type": "execute_result"
    }
   ],
   "source": [
    "train_s_X.shape"
   ]
  },
  {
   "cell_type": "code",
   "execution_count": 810,
   "metadata": {},
   "outputs": [],
   "source": [
    "# n_estimators = [150, 250, 350, 450]\n",
    "# max_features = ['sqrt', None]\n",
    "# max_depth = [50, 75, 100]\n",
    "# max_depth.append(None)\n",
    "# min_samples_split = [0.1, 0.2, 0.3, 0.4, 0.5]\n",
    "# min_samples_leaf = [0.1, 0.2, 0.3]\n",
    "# bootstrap = [True, False]\n",
    "\n",
    "# random_grid = {'n_estimators': n_estimators,\n",
    "#                'max_features': max_features,\n",
    "#                'max_depth': max_depth,\n",
    "#                'min_samples_split': min_samples_split,\n",
    "#                'min_samples_leaf': min_samples_leaf,\n",
    "#                'bootstrap': bootstrap}\n",
    "# random_grid"
   ]
  },
  {
   "cell_type": "code",
   "execution_count": 811,
   "metadata": {},
   "outputs": [],
   "source": [
    "# # Use the random grid to search for best hyperparameters\n",
    "# # First create the base model to tune\n",
    "# rf = RandomForestClassifier()\n",
    "# # Random search of parameters, using 3 fold cross validation, \n",
    "# # search across 100 different combinations, and use all available cores\n",
    "# rf_random = RandomizedSearchCV(estimator = rf, param_distributions = random_grid, n_iter = 100, cv = 5, verbose=2, random_state=42, n_jobs = -1)\n",
    "# # Fit the random search model\n",
    "# rf_random.fit(train_s_X, train_s_y)"
   ]
  },
  {
   "cell_type": "code",
   "execution_count": 812,
   "metadata": {},
   "outputs": [],
   "source": [
    "# rf_random.best_params_"
   ]
  },
  {
   "cell_type": "code",
   "execution_count": 813,
   "metadata": {},
   "outputs": [],
   "source": [
    "# clf_rf = RandomForestClassifier(bootstrap = False,  n_estimators = 200, min_samples_split = 10, min_samples_leaf = 1, max_features = \"sqrt\", max_depth = None, random_state=42)\n",
    "# clf_rf = RandomForestClassifier(bootstrap = False,  n_estimators = 400, min_samples_split = 10, min_samples_leaf = 2, max_features = \"sqrt\", max_depth = 30, random_state=42)\n",
    "# clf_rf = RandomForestClassifier(bootstrap = True,  n_estimators = 200, min_samples_split = 5, min_samples_leaf = 2, max_features = None, max_depth = 50, random_state=42, oob_score=True)\n",
    "# clf_rf = RandomForestClassifier(bootstrap = True,  n_estimators = 400, min_samples_split = 5, min_samples_leaf = 2, max_features = None, max_depth = None, random_state=42, oob_score=True)\n",
    "# clf_rf = RandomForestClassifier(bootstrap = True,  n_estimators = 100, min_samples_split = 5, min_samples_leaf = 2, max_features = None, max_depth = None, random_state=42, oob_score=True)\n",
    "# clf_rf = RandomForestClassifier(n_estimators = 100, random_state=42, class_weight={0:1,1:10})\n",
    "# clf_rf = RandomForestClassifier(n_estimators = 200, random_state=42, oob_score=True)\n",
    "\n",
    "clf_rf = RandomForestClassifier(n_estimators = 500, min_samples_split = 5, min_samples_leaf = 2, max_features = None, max_depth = 40, bootstrap = True, random_state=42, oob_score=True, n_jobs = -1)\n",
    "# clf_rf = RandomForestClassifier(n_estimators = 150, min_samples_split = 0.3, min_samples_leaf = 0.1, max_features = \"sqrt\", max_depth = 100, bootstrap = True, random_state=42, n_jobs = -1)\n",
    "\n",
    "# clf_lr = LogisticRegression(random_state=42, class_weight=\"balanced\" )\n",
    "# clf_lr = LogisticRegression(random_state=42, C=100)\n",
    "# clf_svc = SVC(kernel = \"rbf\")\n",
    "# clf_sgd = SGDClassifier(random_state=42)\n",
    "# clf_bag = BaggingClassifier(DecisionTreeClassifier(), n_estimators = 200, max_samples=6305, bootstrap=False)"
   ]
  },
  {
   "cell_type": "code",
   "execution_count": 814,
   "metadata": {},
   "outputs": [],
   "source": [
    "# train_yy = np.array(train_y)\n",
    "# train_yy = train_yy.reshape(-1,)\n",
    "# clf_rf.fit(train_ds_X, train_ds_y)\n",
    "# clf_rf.fit(train_X.drop(columns = [\"EmployeeNo\", \"Year_of_birth\", \"Year_of_recruitment\", \"State_Of_Origin\"], axis = 1), train_yy)\n",
    "# clf_lr.fit(train_X.drop(columns = [\"EmployeeNo\", \"Year_of_birth\", \"Year_of_recruitment\", \"State_Of_Origin\"], axis = 1), train_yy)\n",
    "# clf_lr.fit(train_ds_X, train_ds_y)\n",
    "# clf_svc.fit(train_X.drop(columns = [\"EmployeeNo\", \"Year_of_birth\", \"Year_of_recruitment\", \"State_Of_Origin\"], axis = 1), train_yy)\n",
    "# clf_sgd.fit(train_ds_X, train_ds_y)\n",
    "# clf_lr.fit(train_ds_X, train_ds_y)"
   ]
  },
  {
   "cell_type": "code",
   "execution_count": 815,
   "metadata": {},
   "outputs": [],
   "source": [
    "# clf_rf.fit(train_ds_X.drop(columns = [\"Past_Disciplinary_Action_1\", \"Past_Disciplinary_Action_2\", \"Previous_IntraDepartmental_Movement_1\", \"Previous_IntraDepartmental_Movement_2\"], axis = 1), train_ds_y)\n",
    "# clf_rf.fit(train_ds_X.drop(columns = [\"Past_Disciplinary_Action_1\", \"Past_Disciplinary_Action_2\", \"Previous_IntraDepartmental_Movement_1\", \"Previous_IntraDepartmental_Movement_2\"], axis = 1), train_ds_y)\n",
    "# clf_rf.fit(train_X.drop(\"Past_Disciplinary_Action\", axis = 1), train_y)"
   ]
  },
  {
   "cell_type": "code",
   "execution_count": 816,
   "metadata": {},
   "outputs": [
    {
     "data": {
      "text/plain": [
       "RandomForestClassifier(bootstrap=True, class_weight=None, criterion='gini',\n",
       "                       max_depth=40, max_features=None, max_leaf_nodes=None,\n",
       "                       min_impurity_decrease=0.0, min_impurity_split=None,\n",
       "                       min_samples_leaf=2, min_samples_split=5,\n",
       "                       min_weight_fraction_leaf=0.0, n_estimators=500,\n",
       "                       n_jobs=-1, oob_score=True, random_state=42, verbose=0,\n",
       "                       warm_start=False)"
      ]
     },
     "execution_count": 816,
     "metadata": {},
     "output_type": "execute_result"
    }
   ],
   "source": [
    "# clf_rf.fit(train_s_X, train_s_y)\n",
    "clf_rf.fit(train_s_X.drop(columns = [\"Past_Disciplinary_Action_1\",\"Past_Disciplinary_Action_2\"], axis = 1), train_s_y)"
   ]
  },
  {
   "cell_type": "code",
   "execution_count": 817,
   "metadata": {},
   "outputs": [
    {
     "data": {
      "text/plain": [
       "0.9652370203160271"
      ]
     },
     "execution_count": 817,
     "metadata": {},
     "output_type": "execute_result"
    }
   ],
   "source": [
    "clf_rf.oob_score_"
   ]
  },
  {
   "cell_type": "code",
   "execution_count": 818,
   "metadata": {},
   "outputs": [
    {
     "data": {
      "text/plain": [
       "array([0.9618804 , 0.9626088 , 0.96372298, 0.96262824, 0.96384662])"
      ]
     },
     "execution_count": 818,
     "metadata": {},
     "output_type": "execute_result"
    }
   ],
   "source": [
    "cross_val_score(clf_rf, train_s_X.drop(columns = [\"Past_Disciplinary_Action_1\",\"Past_Disciplinary_Action_2\"], axis = 1), train_s_y, cv = 5, scoring = \"f1\" )"
   ]
  },
  {
   "cell_type": "code",
   "execution_count": 819,
   "metadata": {},
   "outputs": [],
   "source": [
    "train_preds = cross_val_predict(clf_rf ,train_s_X.drop(columns = [\"Past_Disciplinary_Action_1\",\"Past_Disciplinary_Action_2\"], axis = 1), train_s_y, cv = 5)"
   ]
  },
  {
   "cell_type": "code",
   "execution_count": 820,
   "metadata": {},
   "outputs": [
    {
     "data": {
      "text/plain": [
       "array([[20847,   195],\n",
       "       [ 1323, 19720]])"
      ]
     },
     "execution_count": 820,
     "metadata": {},
     "output_type": "execute_result"
    }
   ],
   "source": [
    "confusion_matrix(train_s_y, train_preds)"
   ]
  },
  {
   "cell_type": "code",
   "execution_count": 821,
   "metadata": {},
   "outputs": [
    {
     "data": {
      "text/plain": [
       "(0.962937643439621, 0.9902083856389656, 0.9371287363969015)"
      ]
     },
     "execution_count": 821,
     "metadata": {},
     "output_type": "execute_result"
    }
   ],
   "source": [
    "f1_score(train_s_y, train_preds), precision_score(train_s_y, train_preds), recall_score(train_s_y, train_preds)"
   ]
  },
  {
   "cell_type": "code",
   "execution_count": 822,
   "metadata": {},
   "outputs": [],
   "source": [
    "# precisions, recalls, thresholds = precision_recall_curve(train_s_y, train_preds)"
   ]
  },
  {
   "cell_type": "code",
   "execution_count": 823,
   "metadata": {},
   "outputs": [],
   "source": [
    "# plt.plot(thresholds, precisions[:-1], \"b--\", label = \"Precision\")\n",
    "# plt.plot(thresholds, recalls[:-1], \"g--\", label = \"Recall\")\n",
    "# plt.xlabel(\"Threshold\")\n",
    "# plt.legend(loc=\"center left\")\n",
    "# plt.ylim([0, 1])"
   ]
  },
  {
   "cell_type": "code",
   "execution_count": 824,
   "metadata": {},
   "outputs": [],
   "source": [
    "# plt.plot(recalls, precisions)"
   ]
  },
  {
   "cell_type": "markdown",
   "metadata": {},
   "source": [
    "### Try to tune threshold to improve precision/recall trade-off and F1 Score"
   ]
  },
  {
   "cell_type": "code",
   "execution_count": 825,
   "metadata": {},
   "outputs": [],
   "source": [
    "custom_probs = clf_rf.predict_proba(train_s_X.drop(columns = [\"Past_Disciplinary_Action_1\",\"Past_Disciplinary_Action_2\"], axis = 1))[:,1]"
   ]
  },
  {
   "cell_type": "code",
   "execution_count": 826,
   "metadata": {},
   "outputs": [],
   "source": [
    "def adjusted_pred(probs, t):\n",
    "    return [1 if y >= t else 0 for y in probs]"
   ]
  },
  {
   "cell_type": "code",
   "execution_count": 827,
   "metadata": {},
   "outputs": [],
   "source": [
    "# 0.5 threshold\n",
    "custom_preds = adjusted_pred(custom_probs, 0.5)"
   ]
  },
  {
   "cell_type": "code",
   "execution_count": 828,
   "metadata": {},
   "outputs": [
    {
     "data": {
      "text/plain": [
       "(0.9896338244468974, 0.9995152925209636, 0.9799458252150359)"
      ]
     },
     "execution_count": 828,
     "metadata": {},
     "output_type": "execute_result"
    }
   ],
   "source": [
    "f1_score(train_s_y, custom_preds), precision_score(train_s_y, custom_preds), recall_score(train_s_y, custom_preds)"
   ]
  },
  {
   "cell_type": "code",
   "execution_count": 829,
   "metadata": {},
   "outputs": [],
   "source": [
    "# 0.4 threshold\n",
    "custom_preds2 = adjusted_pred(custom_probs, 0.4)"
   ]
  },
  {
   "cell_type": "code",
   "execution_count": 830,
   "metadata": {},
   "outputs": [
    {
     "data": {
      "text/plain": [
       "(0.9971916797562949, 0.99880810488677, 0.9955804780687164)"
      ]
     },
     "execution_count": 830,
     "metadata": {},
     "output_type": "execute_result"
    }
   ],
   "source": [
    "f1_score(train_s_y ,custom_preds2), precision_score(train_s_y ,custom_preds2), recall_score(train_s_y ,custom_preds2)"
   ]
  },
  {
   "cell_type": "code",
   "execution_count": 831,
   "metadata": {},
   "outputs": [],
   "source": [
    "# prob of first examplee being 0 is 1, and being 1 is 0. sum of each index values equal 1."
   ]
  },
  {
   "cell_type": "markdown",
   "metadata": {},
   "source": [
    "### Feature Importance"
   ]
  },
  {
   "cell_type": "code",
   "execution_count": 832,
   "metadata": {},
   "outputs": [
    {
     "data": {
      "image/png": "[encoded data removed]",
      "text/plain": [
       "<Figure size 1080x576 with 1 Axes>"
      ]
     },
     "metadata": {
      "needs_background": "light"
     },
     "output_type": "display_data"
    }
   ],
   "source": [
    "df_fi = pd.DataFrame()\n",
    "df_fi[\"columns\"] = df_X.drop(columns = [\"Past_Disciplinary_Action_1\",\"Past_Disciplinary_Action_2\"], axis = 1).columns\n",
    "df_fi[\"feat_imp\"] = clf_rf.feature_importances_\n",
    "# feat_imp = pd.Series(clf_rf.feature_importances_, index = train_ds_X.columns)\n",
    "# feat_imp.nlargest(35).plot(kind = \"barh\")\n",
    "fig, ax = plt.subplots(figsize = (15, 8))\n",
    "sns.barplot(data = df_fi,  y = \"columns\", x = \"feat_imp\")\n",
    "plt.show()"
   ]
  },
  {
   "cell_type": "code",
   "execution_count": 833,
   "metadata": {},
   "outputs": [
    {
     "data": {
      "image/png": "[encoded data removed]",
      "text/plain": [
       "<Figure size 1152x720 with 1 Axes>"
      ]
     },
     "metadata": {
      "needs_background": "light"
     },
     "output_type": "display_data"
    }
   ],
   "source": [
    "# perform on \n",
    "corr = np.round(scipy.stats.spearmanr(np.array(dataset.select_dtypes(include=[np.number]).drop(\"Promoted_or_Not\", axis = 1))).correlation, 4)\n",
    "corr_condensed = hc.distance.squareform(1-corr)\n",
    "z = hc.linkage(corr_condensed, method='average')\n",
    "fig = plt.figure(figsize=(16,10))\n",
    "dendrogram = hc.dendrogram(z, labels=dataset.select_dtypes(include=[np.number]).drop(\"Promoted_or_Not\", axis = 1).columns, orientation='left', leaf_font_size=16)\n",
    "plt.show()"
   ]
  },
  {
   "cell_type": "code",
   "execution_count": 834,
   "metadata": {},
   "outputs": [
    {
     "data": {
      "text/html": [
       "<div>\n",
       "<style scoped>\n",
       "    .dataframe tbody tr th:only-of-type {\n",
       "        vertical-align: middle;\n",
       "    }\n",
       "\n",
       "    .dataframe tbody tr th {\n",
       "        vertical-align: top;\n",
       "    }\n",
       "\n",
       "    .dataframe thead th {\n",
       "        text-align: right;\n",
       "    }\n",
       "</style>\n",
       "<table border=\"1\" class=\"dataframe\">\n",
       "  <thead>\n",
       "    <tr style=\"text-align: right;\">\n",
       "      <th></th>\n",
       "      <th>Division_1</th>\n",
       "      <th>Division_2</th>\n",
       "      <th>Division_3</th>\n",
       "      <th>Division_4</th>\n",
       "      <th>Division_5</th>\n",
       "      <th>Division_6</th>\n",
       "      <th>Division_7</th>\n",
       "      <th>Division_8</th>\n",
       "      <th>Division_9</th>\n",
       "      <th>Qualification</th>\n",
       "      <th>Gender_1</th>\n",
       "      <th>Gender_2</th>\n",
       "      <th>Channel_of_Recruitment_1</th>\n",
       "      <th>Channel_of_Recruitment_2</th>\n",
       "      <th>Channel_of_Recruitment_3</th>\n",
       "      <th>Trainings_Attended</th>\n",
       "      <th>Last_performance_score</th>\n",
       "      <th>Targets_met_1</th>\n",
       "      <th>Targets_met_2</th>\n",
       "      <th>Previous_Award_1</th>\n",
       "      <th>Previous_Award_2</th>\n",
       "      <th>Training_score_average</th>\n",
       "      <th>Foreign_schooled_1</th>\n",
       "      <th>Foreign_schooled_2</th>\n",
       "      <th>Marital_Status_1</th>\n",
       "      <th>Marital_Status_2</th>\n",
       "      <th>Marital_Status_3</th>\n",
       "      <th>Past_Disciplinary_Action_1</th>\n",
       "      <th>Past_Disciplinary_Action_2</th>\n",
       "      <th>Previous_IntraDepartmental_Movement_1</th>\n",
       "      <th>Previous_IntraDepartmental_Movement_2</th>\n",
       "      <th>No_of_previous_employers</th>\n",
       "      <th>Age</th>\n",
       "      <th>Years_in_Company</th>\n",
       "      <th>Zone_1</th>\n",
       "      <th>Zone_2</th>\n",
       "      <th>Zone_3</th>\n",
       "      <th>Zone_4</th>\n",
       "      <th>Zone_5</th>\n",
       "      <th>Zone_6</th>\n",
       "    </tr>\n",
       "  </thead>\n",
       "  <tbody>\n",
       "    <tr>\n",
       "      <td>0</td>\n",
       "      <td>1</td>\n",
       "      <td>0</td>\n",
       "      <td>0</td>\n",
       "      <td>0</td>\n",
       "      <td>0</td>\n",
       "      <td>0</td>\n",
       "      <td>0</td>\n",
       "      <td>0</td>\n",
       "      <td>0</td>\n",
       "      <td>3</td>\n",
       "      <td>1</td>\n",
       "      <td>0</td>\n",
       "      <td>1</td>\n",
       "      <td>0</td>\n",
       "      <td>0</td>\n",
       "      <td>2</td>\n",
       "      <td>12.5</td>\n",
       "      <td>1</td>\n",
       "      <td>0</td>\n",
       "      <td>1</td>\n",
       "      <td>0</td>\n",
       "      <td>41</td>\n",
       "      <td>1</td>\n",
       "      <td>0</td>\n",
       "      <td>1</td>\n",
       "      <td>0</td>\n",
       "      <td>0</td>\n",
       "      <td>1</td>\n",
       "      <td>0</td>\n",
       "      <td>1</td>\n",
       "      <td>0</td>\n",
       "      <td>0</td>\n",
       "      <td>33</td>\n",
       "      <td>8</td>\n",
       "      <td>1</td>\n",
       "      <td>0</td>\n",
       "      <td>0</td>\n",
       "      <td>0</td>\n",
       "      <td>0</td>\n",
       "      <td>0</td>\n",
       "    </tr>\n",
       "    <tr>\n",
       "      <td>1</td>\n",
       "      <td>0</td>\n",
       "      <td>1</td>\n",
       "      <td>0</td>\n",
       "      <td>0</td>\n",
       "      <td>0</td>\n",
       "      <td>0</td>\n",
       "      <td>0</td>\n",
       "      <td>0</td>\n",
       "      <td>0</td>\n",
       "      <td>2</td>\n",
       "      <td>0</td>\n",
       "      <td>1</td>\n",
       "      <td>0</td>\n",
       "      <td>1</td>\n",
       "      <td>0</td>\n",
       "      <td>2</td>\n",
       "      <td>12.5</td>\n",
       "      <td>0</td>\n",
       "      <td>1</td>\n",
       "      <td>1</td>\n",
       "      <td>0</td>\n",
       "      <td>52</td>\n",
       "      <td>0</td>\n",
       "      <td>1</td>\n",
       "      <td>1</td>\n",
       "      <td>0</td>\n",
       "      <td>0</td>\n",
       "      <td>1</td>\n",
       "      <td>0</td>\n",
       "      <td>1</td>\n",
       "      <td>0</td>\n",
       "      <td>0</td>\n",
       "      <td>28</td>\n",
       "      <td>4</td>\n",
       "      <td>1</td>\n",
       "      <td>0</td>\n",
       "      <td>0</td>\n",
       "      <td>0</td>\n",
       "      <td>0</td>\n",
       "      <td>0</td>\n",
       "    </tr>\n",
       "    <tr>\n",
       "      <td>2</td>\n",
       "      <td>1</td>\n",
       "      <td>0</td>\n",
       "      <td>0</td>\n",
       "      <td>0</td>\n",
       "      <td>0</td>\n",
       "      <td>0</td>\n",
       "      <td>0</td>\n",
       "      <td>0</td>\n",
       "      <td>0</td>\n",
       "      <td>2</td>\n",
       "      <td>0</td>\n",
       "      <td>1</td>\n",
       "      <td>1</td>\n",
       "      <td>0</td>\n",
       "      <td>0</td>\n",
       "      <td>2</td>\n",
       "      <td>7.5</td>\n",
       "      <td>0</td>\n",
       "      <td>1</td>\n",
       "      <td>1</td>\n",
       "      <td>0</td>\n",
       "      <td>42</td>\n",
       "      <td>0</td>\n",
       "      <td>1</td>\n",
       "      <td>1</td>\n",
       "      <td>0</td>\n",
       "      <td>0</td>\n",
       "      <td>1</td>\n",
       "      <td>0</td>\n",
       "      <td>1</td>\n",
       "      <td>0</td>\n",
       "      <td>0</td>\n",
       "      <td>32</td>\n",
       "      <td>7</td>\n",
       "      <td>0</td>\n",
       "      <td>1</td>\n",
       "      <td>0</td>\n",
       "      <td>0</td>\n",
       "      <td>0</td>\n",
       "      <td>0</td>\n",
       "    </tr>\n",
       "    <tr>\n",
       "      <td>3</td>\n",
       "      <td>1</td>\n",
       "      <td>0</td>\n",
       "      <td>0</td>\n",
       "      <td>0</td>\n",
       "      <td>0</td>\n",
       "      <td>0</td>\n",
       "      <td>0</td>\n",
       "      <td>0</td>\n",
       "      <td>0</td>\n",
       "      <td>2</td>\n",
       "      <td>0</td>\n",
       "      <td>1</td>\n",
       "      <td>0</td>\n",
       "      <td>1</td>\n",
       "      <td>0</td>\n",
       "      <td>3</td>\n",
       "      <td>2.5</td>\n",
       "      <td>0</td>\n",
       "      <td>1</td>\n",
       "      <td>1</td>\n",
       "      <td>0</td>\n",
       "      <td>42</td>\n",
       "      <td>0</td>\n",
       "      <td>1</td>\n",
       "      <td>0</td>\n",
       "      <td>1</td>\n",
       "      <td>0</td>\n",
       "      <td>1</td>\n",
       "      <td>0</td>\n",
       "      <td>1</td>\n",
       "      <td>0</td>\n",
       "      <td>1</td>\n",
       "      <td>37</td>\n",
       "      <td>10</td>\n",
       "      <td>0</td>\n",
       "      <td>0</td>\n",
       "      <td>1</td>\n",
       "      <td>0</td>\n",
       "      <td>0</td>\n",
       "      <td>0</td>\n",
       "    </tr>\n",
       "    <tr>\n",
       "      <td>4</td>\n",
       "      <td>0</td>\n",
       "      <td>0</td>\n",
       "      <td>1</td>\n",
       "      <td>0</td>\n",
       "      <td>0</td>\n",
       "      <td>0</td>\n",
       "      <td>0</td>\n",
       "      <td>0</td>\n",
       "      <td>0</td>\n",
       "      <td>2</td>\n",
       "      <td>0</td>\n",
       "      <td>1</td>\n",
       "      <td>1</td>\n",
       "      <td>0</td>\n",
       "      <td>0</td>\n",
       "      <td>3</td>\n",
       "      <td>7.5</td>\n",
       "      <td>0</td>\n",
       "      <td>1</td>\n",
       "      <td>1</td>\n",
       "      <td>0</td>\n",
       "      <td>77</td>\n",
       "      <td>0</td>\n",
       "      <td>1</td>\n",
       "      <td>1</td>\n",
       "      <td>0</td>\n",
       "      <td>0</td>\n",
       "      <td>1</td>\n",
       "      <td>0</td>\n",
       "      <td>1</td>\n",
       "      <td>0</td>\n",
       "      <td>1</td>\n",
       "      <td>29</td>\n",
       "      <td>7</td>\n",
       "      <td>0</td>\n",
       "      <td>0</td>\n",
       "      <td>0</td>\n",
       "      <td>1</td>\n",
       "      <td>0</td>\n",
       "      <td>0</td>\n",
       "    </tr>\n",
       "    <tr>\n",
       "      <td>...</td>\n",
       "      <td>...</td>\n",
       "      <td>...</td>\n",
       "      <td>...</td>\n",
       "      <td>...</td>\n",
       "      <td>...</td>\n",
       "      <td>...</td>\n",
       "      <td>...</td>\n",
       "      <td>...</td>\n",
       "      <td>...</td>\n",
       "      <td>...</td>\n",
       "      <td>...</td>\n",
       "      <td>...</td>\n",
       "      <td>...</td>\n",
       "      <td>...</td>\n",
       "      <td>...</td>\n",
       "      <td>...</td>\n",
       "      <td>...</td>\n",
       "      <td>...</td>\n",
       "      <td>...</td>\n",
       "      <td>...</td>\n",
       "      <td>...</td>\n",
       "      <td>...</td>\n",
       "      <td>...</td>\n",
       "      <td>...</td>\n",
       "      <td>...</td>\n",
       "      <td>...</td>\n",
       "      <td>...</td>\n",
       "      <td>...</td>\n",
       "      <td>...</td>\n",
       "      <td>...</td>\n",
       "      <td>...</td>\n",
       "      <td>...</td>\n",
       "      <td>...</td>\n",
       "      <td>...</td>\n",
       "      <td>...</td>\n",
       "      <td>...</td>\n",
       "      <td>...</td>\n",
       "      <td>...</td>\n",
       "      <td>...</td>\n",
       "      <td>...</td>\n",
       "    </tr>\n",
       "    <tr>\n",
       "      <td>38307</td>\n",
       "      <td>0</td>\n",
       "      <td>0</td>\n",
       "      <td>0</td>\n",
       "      <td>1</td>\n",
       "      <td>0</td>\n",
       "      <td>0</td>\n",
       "      <td>0</td>\n",
       "      <td>0</td>\n",
       "      <td>0</td>\n",
       "      <td>2</td>\n",
       "      <td>1</td>\n",
       "      <td>0</td>\n",
       "      <td>1</td>\n",
       "      <td>0</td>\n",
       "      <td>0</td>\n",
       "      <td>2</td>\n",
       "      <td>0.0</td>\n",
       "      <td>0</td>\n",
       "      <td>1</td>\n",
       "      <td>1</td>\n",
       "      <td>0</td>\n",
       "      <td>70</td>\n",
       "      <td>0</td>\n",
       "      <td>1</td>\n",
       "      <td>1</td>\n",
       "      <td>0</td>\n",
       "      <td>0</td>\n",
       "      <td>1</td>\n",
       "      <td>0</td>\n",
       "      <td>1</td>\n",
       "      <td>0</td>\n",
       "      <td>0</td>\n",
       "      <td>29</td>\n",
       "      <td>1</td>\n",
       "      <td>0</td>\n",
       "      <td>0</td>\n",
       "      <td>0</td>\n",
       "      <td>0</td>\n",
       "      <td>1</td>\n",
       "      <td>0</td>\n",
       "    </tr>\n",
       "    <tr>\n",
       "      <td>38308</td>\n",
       "      <td>0</td>\n",
       "      <td>1</td>\n",
       "      <td>0</td>\n",
       "      <td>0</td>\n",
       "      <td>0</td>\n",
       "      <td>0</td>\n",
       "      <td>0</td>\n",
       "      <td>0</td>\n",
       "      <td>0</td>\n",
       "      <td>3</td>\n",
       "      <td>1</td>\n",
       "      <td>0</td>\n",
       "      <td>0</td>\n",
       "      <td>1</td>\n",
       "      <td>0</td>\n",
       "      <td>2</td>\n",
       "      <td>5.0</td>\n",
       "      <td>0</td>\n",
       "      <td>1</td>\n",
       "      <td>1</td>\n",
       "      <td>0</td>\n",
       "      <td>48</td>\n",
       "      <td>0</td>\n",
       "      <td>1</td>\n",
       "      <td>1</td>\n",
       "      <td>0</td>\n",
       "      <td>0</td>\n",
       "      <td>1</td>\n",
       "      <td>0</td>\n",
       "      <td>1</td>\n",
       "      <td>0</td>\n",
       "      <td>1</td>\n",
       "      <td>35</td>\n",
       "      <td>6</td>\n",
       "      <td>1</td>\n",
       "      <td>0</td>\n",
       "      <td>0</td>\n",
       "      <td>0</td>\n",
       "      <td>0</td>\n",
       "      <td>0</td>\n",
       "    </tr>\n",
       "    <tr>\n",
       "      <td>38309</td>\n",
       "      <td>0</td>\n",
       "      <td>0</td>\n",
       "      <td>1</td>\n",
       "      <td>0</td>\n",
       "      <td>0</td>\n",
       "      <td>0</td>\n",
       "      <td>0</td>\n",
       "      <td>0</td>\n",
       "      <td>0</td>\n",
       "      <td>2</td>\n",
       "      <td>0</td>\n",
       "      <td>1</td>\n",
       "      <td>0</td>\n",
       "      <td>1</td>\n",
       "      <td>0</td>\n",
       "      <td>2</td>\n",
       "      <td>12.5</td>\n",
       "      <td>1</td>\n",
       "      <td>0</td>\n",
       "      <td>1</td>\n",
       "      <td>0</td>\n",
       "      <td>71</td>\n",
       "      <td>1</td>\n",
       "      <td>0</td>\n",
       "      <td>1</td>\n",
       "      <td>0</td>\n",
       "      <td>0</td>\n",
       "      <td>1</td>\n",
       "      <td>0</td>\n",
       "      <td>1</td>\n",
       "      <td>0</td>\n",
       "      <td>3</td>\n",
       "      <td>25</td>\n",
       "      <td>3</td>\n",
       "      <td>1</td>\n",
       "      <td>0</td>\n",
       "      <td>0</td>\n",
       "      <td>0</td>\n",
       "      <td>0</td>\n",
       "      <td>0</td>\n",
       "    </tr>\n",
       "    <tr>\n",
       "      <td>38310</td>\n",
       "      <td>1</td>\n",
       "      <td>0</td>\n",
       "      <td>0</td>\n",
       "      <td>0</td>\n",
       "      <td>0</td>\n",
       "      <td>0</td>\n",
       "      <td>0</td>\n",
       "      <td>0</td>\n",
       "      <td>0</td>\n",
       "      <td>-2</td>\n",
       "      <td>0</td>\n",
       "      <td>1</td>\n",
       "      <td>1</td>\n",
       "      <td>0</td>\n",
       "      <td>0</td>\n",
       "      <td>2</td>\n",
       "      <td>2.5</td>\n",
       "      <td>0</td>\n",
       "      <td>1</td>\n",
       "      <td>1</td>\n",
       "      <td>0</td>\n",
       "      <td>37</td>\n",
       "      <td>0</td>\n",
       "      <td>1</td>\n",
       "      <td>1</td>\n",
       "      <td>0</td>\n",
       "      <td>0</td>\n",
       "      <td>1</td>\n",
       "      <td>0</td>\n",
       "      <td>1</td>\n",
       "      <td>0</td>\n",
       "      <td>1</td>\n",
       "      <td>27</td>\n",
       "      <td>2</td>\n",
       "      <td>0</td>\n",
       "      <td>0</td>\n",
       "      <td>1</td>\n",
       "      <td>0</td>\n",
       "      <td>0</td>\n",
       "      <td>0</td>\n",
       "    </tr>\n",
       "    <tr>\n",
       "      <td>38311</td>\n",
       "      <td>0</td>\n",
       "      <td>0</td>\n",
       "      <td>0</td>\n",
       "      <td>0</td>\n",
       "      <td>0</td>\n",
       "      <td>0</td>\n",
       "      <td>1</td>\n",
       "      <td>0</td>\n",
       "      <td>0</td>\n",
       "      <td>2</td>\n",
       "      <td>0</td>\n",
       "      <td>1</td>\n",
       "      <td>0</td>\n",
       "      <td>1</td>\n",
       "      <td>0</td>\n",
       "      <td>2</td>\n",
       "      <td>2.5</td>\n",
       "      <td>0</td>\n",
       "      <td>1</td>\n",
       "      <td>1</td>\n",
       "      <td>0</td>\n",
       "      <td>41</td>\n",
       "      <td>0</td>\n",
       "      <td>1</td>\n",
       "      <td>0</td>\n",
       "      <td>1</td>\n",
       "      <td>0</td>\n",
       "      <td>1</td>\n",
       "      <td>0</td>\n",
       "      <td>1</td>\n",
       "      <td>0</td>\n",
       "      <td>2</td>\n",
       "      <td>25</td>\n",
       "      <td>5</td>\n",
       "      <td>0</td>\n",
       "      <td>0</td>\n",
       "      <td>1</td>\n",
       "      <td>0</td>\n",
       "      <td>0</td>\n",
       "      <td>0</td>\n",
       "    </tr>\n",
       "  </tbody>\n",
       "</table>\n",
       "<p>38312 rows × 40 columns</p>\n",
       "</div>"
      ],
      "text/plain": [
       "       Division_1  Division_2  Division_3  Division_4  Division_5  Division_6  \\\n",
       "0               1           0           0           0           0           0   \n",
       "1               0           1           0           0           0           0   \n",
       "2               1           0           0           0           0           0   \n",
       "3               1           0           0           0           0           0   \n",
       "4               0           0           1           0           0           0   \n",
       "...           ...         ...         ...         ...         ...         ...   \n",
       "38307           0           0           0           1           0           0   \n",
       "38308           0           1           0           0           0           0   \n",
       "38309           0           0           1           0           0           0   \n",
       "38310           1           0           0           0           0           0   \n",
       "38311           0           0           0           0           0           0   \n",
       "\n",
       "       Division_7  Division_8  Division_9  Qualification  Gender_1  Gender_2  \\\n",
       "0               0           0           0              3         1         0   \n",
       "1               0           0           0              2         0         1   \n",
       "2               0           0           0              2         0         1   \n",
       "3               0           0           0              2         0         1   \n",
       "4               0           0           0              2         0         1   \n",
       "...           ...         ...         ...            ...       ...       ...   \n",
       "38307           0           0           0              2         1         0   \n",
       "38308           0           0           0              3         1         0   \n",
       "38309           0           0           0              2         0         1   \n",
       "38310           0           0           0             -2         0         1   \n",
       "38311           1           0           0              2         0         1   \n",
       "\n",
       "       Channel_of_Recruitment_1  Channel_of_Recruitment_2  \\\n",
       "0                             1                         0   \n",
       "1                             0                         1   \n",
       "2                             1                         0   \n",
       "3                             0                         1   \n",
       "4                             1                         0   \n",
       "...                         ...                       ...   \n",
       "38307                         1                         0   \n",
       "38308                         0                         1   \n",
       "38309                         0                         1   \n",
       "38310                         1                         0   \n",
       "38311                         0                         1   \n",
       "\n",
       "       Channel_of_Recruitment_3  Trainings_Attended  Last_performance_score  \\\n",
       "0                             0                   2                    12.5   \n",
       "1                             0                   2                    12.5   \n",
       "2                             0                   2                     7.5   \n",
       "3                             0                   3                     2.5   \n",
       "4                             0                   3                     7.5   \n",
       "...                         ...                 ...                     ...   \n",
       "38307                         0                   2                     0.0   \n",
       "38308                         0                   2                     5.0   \n",
       "38309                         0                   2                    12.5   \n",
       "38310                         0                   2                     2.5   \n",
       "38311                         0                   2                     2.5   \n",
       "\n",
       "       Targets_met_1  Targets_met_2  Previous_Award_1  Previous_Award_2  \\\n",
       "0                  1              0                 1                 0   \n",
       "1                  0              1                 1                 0   \n",
       "2                  0              1                 1                 0   \n",
       "3                  0              1                 1                 0   \n",
       "4                  0              1                 1                 0   \n",
       "...              ...            ...               ...               ...   \n",
       "38307              0              1                 1                 0   \n",
       "38308              0              1                 1                 0   \n",
       "38309              1              0                 1                 0   \n",
       "38310              0              1                 1                 0   \n",
       "38311              0              1                 1                 0   \n",
       "\n",
       "       Training_score_average  Foreign_schooled_1  Foreign_schooled_2  \\\n",
       "0                          41                   1                   0   \n",
       "1                          52                   0                   1   \n",
       "2                          42                   0                   1   \n",
       "3                          42                   0                   1   \n",
       "4                          77                   0                   1   \n",
       "...                       ...                 ...                 ...   \n",
       "38307                      70                   0                   1   \n",
       "38308                      48                   0                   1   \n",
       "38309                      71                   1                   0   \n",
       "38310                      37                   0                   1   \n",
       "38311                      41                   0                   1   \n",
       "\n",
       "       Marital_Status_1  Marital_Status_2  Marital_Status_3  \\\n",
       "0                     1                 0                 0   \n",
       "1                     1                 0                 0   \n",
       "2                     1                 0                 0   \n",
       "3                     0                 1                 0   \n",
       "4                     1                 0                 0   \n",
       "...                 ...               ...               ...   \n",
       "38307                 1                 0                 0   \n",
       "38308                 1                 0                 0   \n",
       "38309                 1                 0                 0   \n",
       "38310                 1                 0                 0   \n",
       "38311                 0                 1                 0   \n",
       "\n",
       "       Past_Disciplinary_Action_1  Past_Disciplinary_Action_2  \\\n",
       "0                               1                           0   \n",
       "1                               1                           0   \n",
       "2                               1                           0   \n",
       "3                               1                           0   \n",
       "4                               1                           0   \n",
       "...                           ...                         ...   \n",
       "38307                           1                           0   \n",
       "38308                           1                           0   \n",
       "38309                           1                           0   \n",
       "38310                           1                           0   \n",
       "38311                           1                           0   \n",
       "\n",
       "       Previous_IntraDepartmental_Movement_1  \\\n",
       "0                                          1   \n",
       "1                                          1   \n",
       "2                                          1   \n",
       "3                                          1   \n",
       "4                                          1   \n",
       "...                                      ...   \n",
       "38307                                      1   \n",
       "38308                                      1   \n",
       "38309                                      1   \n",
       "38310                                      1   \n",
       "38311                                      1   \n",
       "\n",
       "       Previous_IntraDepartmental_Movement_2  No_of_previous_employers  Age  \\\n",
       "0                                          0                         0   33   \n",
       "1                                          0                         0   28   \n",
       "2                                          0                         0   32   \n",
       "3                                          0                         1   37   \n",
       "4                                          0                         1   29   \n",
       "...                                      ...                       ...  ...   \n",
       "38307                                      0                         0   29   \n",
       "38308                                      0                         1   35   \n",
       "38309                                      0                         3   25   \n",
       "38310                                      0                         1   27   \n",
       "38311                                      0                         2   25   \n",
       "\n",
       "       Years_in_Company  Zone_1  Zone_2  Zone_3  Zone_4  Zone_5  Zone_6  \n",
       "0                     8       1       0       0       0       0       0  \n",
       "1                     4       1       0       0       0       0       0  \n",
       "2                     7       0       1       0       0       0       0  \n",
       "3                    10       0       0       1       0       0       0  \n",
       "4                     7       0       0       0       1       0       0  \n",
       "...                 ...     ...     ...     ...     ...     ...     ...  \n",
       "38307                 1       0       0       0       0       1       0  \n",
       "38308                 6       1       0       0       0       0       0  \n",
       "38309                 3       1       0       0       0       0       0  \n",
       "38310                 2       0       0       1       0       0       0  \n",
       "38311                 5       0       0       1       0       0       0  \n",
       "\n",
       "[38312 rows x 40 columns]"
      ]
     },
     "execution_count": 834,
     "metadata": {},
     "output_type": "execute_result"
    }
   ],
   "source": [
    "df_X"
   ]
  },
  {
   "cell_type": "code",
   "execution_count": 835,
   "metadata": {},
   "outputs": [
    {
     "data": {
      "text/plain": [
       "(70142, 40)"
      ]
     },
     "execution_count": 835,
     "metadata": {},
     "output_type": "execute_result"
    }
   ],
   "source": [
    "X_s.shape"
   ]
  },
  {
   "cell_type": "markdown",
   "metadata": {},
   "source": [
    "## Validation set predicitions"
   ]
  },
  {
   "cell_type": "markdown",
   "metadata": {},
   "source": [
    "### Evaluation using Default threshold - 0.5"
   ]
  },
  {
   "cell_type": "code",
   "execution_count": 836,
   "metadata": {},
   "outputs": [],
   "source": [
    "valid_preds = clf_rf.predict(valid_s_X.drop(columns = [\"Past_Disciplinary_Action_1\",\"Past_Disciplinary_Action_2\"], axis = 1))"
   ]
  },
  {
   "cell_type": "code",
   "execution_count": 837,
   "metadata": {},
   "outputs": [
    {
     "data": {
      "text/plain": [
       "(0.9657494145199064, 0.9921804511278195, 0.9406900484744796)"
      ]
     },
     "execution_count": 837,
     "metadata": {},
     "output_type": "execute_result"
    }
   ],
   "source": [
    "f1_score(valid_s_y, valid_preds), precision_score(valid_s_y, valid_preds), recall_score(valid_s_y, valid_preds)"
   ]
  },
  {
   "cell_type": "markdown",
   "metadata": {},
   "source": [
    "### Evaluation by tweaking threshold"
   ]
  },
  {
   "cell_type": "code",
   "execution_count": 838,
   "metadata": {},
   "outputs": [],
   "source": [
    "valid_probs = clf_rf.predict_proba(valid_s_X.drop(columns = [\"Past_Disciplinary_Action_1\",\"Past_Disciplinary_Action_2\"], axis = 1))[:,1]"
   ]
  },
  {
   "cell_type": "code",
   "execution_count": 839,
   "metadata": {},
   "outputs": [],
   "source": [
    "valid_preds2 = adjusted_pred(valid_probs, 0.4)"
   ]
  },
  {
   "cell_type": "code",
   "execution_count": 840,
   "metadata": {},
   "outputs": [
    {
     "data": {
      "text/plain": [
       "(0.9628905542884038, 0.978297653203855, 0.9479612204163103)"
      ]
     },
     "execution_count": 840,
     "metadata": {},
     "output_type": "execute_result"
    }
   ],
   "source": [
    "f1_score(valid_s_y, valid_preds2), precision_score(valid_s_y, valid_preds2), recall_score(valid_s_y, valid_preds2)"
   ]
  },
  {
   "cell_type": "markdown",
   "metadata": {},
   "source": [
    "## Test set predictions"
   ]
  },
  {
   "cell_type": "code",
   "execution_count": 841,
   "metadata": {},
   "outputs": [],
   "source": [
    "test_predictions = clf_rf.predict(test.drop(columns = [\"Past_Disciplinary_Action_1\",\"Past_Disciplinary_Action_2\"], axis = 1)).astype(int)"
   ]
  },
  {
   "cell_type": "markdown",
   "metadata": {},
   "source": [
    "### Adjusted threshold - to better recall"
   ]
  },
  {
   "cell_type": "code",
   "execution_count": 842,
   "metadata": {},
   "outputs": [],
   "source": [
    "# test_probs = clf_rf.predict_proba(test.drop(columns = [\"Past_Disciplinary_Action_1\",\"Past_Disciplinary_Action_2\"], axis = 1))[:,1]"
   ]
  },
  {
   "cell_type": "code",
   "execution_count": 843,
   "metadata": {},
   "outputs": [],
   "source": [
    "# test_predictions = (adjusted_pred(test_probs, 0.4))\n",
    "# test_predictions = np.array(test_predictions).astype(int)"
   ]
  },
  {
   "cell_type": "code",
   "execution_count": 844,
   "metadata": {},
   "outputs": [],
   "source": [
    "submission = pd.DataFrame({\"EmployeeNo\":TEST[\"EmployeeNo\"],\"Promoted_or_Not\":test_predictions})"
   ]
  },
  {
   "cell_type": "markdown",
   "metadata": {},
   "source": [
    "**Use pipelines for flexible experiments  \n",
    "Use different notebooks for different models or use pipelines?**"
   ]
  },
  {
   "cell_type": "code",
   "execution_count": 845,
   "metadata": {},
   "outputs": [
    {
     "data": {
      "text/html": [
       "<div>\n",
       "<style scoped>\n",
       "    .dataframe tbody tr th:only-of-type {\n",
       "        vertical-align: middle;\n",
       "    }\n",
       "\n",
       "    .dataframe tbody tr th {\n",
       "        vertical-align: top;\n",
       "    }\n",
       "\n",
       "    .dataframe thead th {\n",
       "        text-align: right;\n",
       "    }\n",
       "</style>\n",
       "<table border=\"1\" class=\"dataframe\">\n",
       "  <thead>\n",
       "    <tr style=\"text-align: right;\">\n",
       "      <th></th>\n",
       "      <th>EmployeeNo</th>\n",
       "      <th>Promoted_or_Not</th>\n",
       "    </tr>\n",
       "  </thead>\n",
       "  <tbody>\n",
       "    <tr>\n",
       "      <td>7530</td>\n",
       "      <td>YAK/S/25182</td>\n",
       "      <td>0</td>\n",
       "    </tr>\n",
       "    <tr>\n",
       "      <td>356</td>\n",
       "      <td>YAK/S/01266</td>\n",
       "      <td>0</td>\n",
       "    </tr>\n",
       "    <tr>\n",
       "      <td>2421</td>\n",
       "      <td>YAK/S/08287</td>\n",
       "      <td>0</td>\n",
       "    </tr>\n",
       "    <tr>\n",
       "      <td>2203</td>\n",
       "      <td>YAK/S/07538</td>\n",
       "      <td>0</td>\n",
       "    </tr>\n",
       "    <tr>\n",
       "      <td>6595</td>\n",
       "      <td>YAK/S/22037</td>\n",
       "      <td>0</td>\n",
       "    </tr>\n",
       "    <tr>\n",
       "      <td>13292</td>\n",
       "      <td>YAK/S/44358</td>\n",
       "      <td>0</td>\n",
       "    </tr>\n",
       "    <tr>\n",
       "      <td>11527</td>\n",
       "      <td>YAK/S/38545</td>\n",
       "      <td>0</td>\n",
       "    </tr>\n",
       "    <tr>\n",
       "      <td>11959</td>\n",
       "      <td>YAK/S/39946</td>\n",
       "      <td>0</td>\n",
       "    </tr>\n",
       "    <tr>\n",
       "      <td>6093</td>\n",
       "      <td>YAK/S/20469</td>\n",
       "      <td>0</td>\n",
       "    </tr>\n",
       "    <tr>\n",
       "      <td>6326</td>\n",
       "      <td>YAK/S/21212</td>\n",
       "      <td>0</td>\n",
       "    </tr>\n",
       "  </tbody>\n",
       "</table>\n",
       "</div>"
      ],
      "text/plain": [
       "        EmployeeNo  Promoted_or_Not\n",
       "7530   YAK/S/25182                0\n",
       "356    YAK/S/01266                0\n",
       "2421   YAK/S/08287                0\n",
       "2203   YAK/S/07538                0\n",
       "6595   YAK/S/22037                0\n",
       "13292  YAK/S/44358                0\n",
       "11527  YAK/S/38545                0\n",
       "11959  YAK/S/39946                0\n",
       "6093   YAK/S/20469                0\n",
       "6326   YAK/S/21212                0"
      ]
     },
     "execution_count": 845,
     "metadata": {},
     "output_type": "execute_result"
    }
   ],
   "source": [
    "submission.sample(10)"
   ]
  },
  {
   "cell_type": "code",
   "execution_count": 846,
   "metadata": {},
   "outputs": [],
   "source": [
    "submission.to_csv(\"my_submission9.csv\", index = False)"
   ]
  }
 ],
 "metadata": {
  "kernelspec": {
   "display_name": "Python 3",
   "language": "python",
   "name": "python3"
  },
  "language_info": {
   "codemirror_mode": {
    "name": "ipython",
    "version": 3
   },
   "file_extension": ".py",
   "mimetype": "text/x-python",
   "name": "python",
   "nbconvert_exporter": "python",
   "pygments_lexer": "ipython3",
   "version": "3.7.1"
  }
 },
 "nbformat": 4,
 "nbformat_minor": 1
}
